{
 "cells": [
  {
   "cell_type": "markdown",
   "metadata": {},
   "source": [
    "### Библиотеки"
   ]
  },
  {
   "cell_type": "code",
   "execution_count": 1,
   "metadata": {},
   "outputs": [],
   "source": [
    "from data_view import *\n",
    "from tqdm.notebook import tqdm\n",
    "import plotly.graph_objects as go\n",
    "from plotly.subplots import make_subplots\n",
    "import plotly.express as px\n",
    "import statsmodels.api as sm\n",
    "import os\n",
    "import re\n",
    "import boto3\n",
    "import datetime\n",
    "import os\n",
    "from dotenv import load_dotenv\n",
    "load_dotenv()\n",
    "\n",
    "session = boto3.session.Session()\n",
    "s3 = session.client(\n",
    "    service_name='s3',\n",
    "    endpoint_url='https://storage.yandexcloud.net',\n",
    "    aws_access_key_id=os.getenv(\"YOBJ_ACCESS_KEY\"),\n",
    "    aws_secret_access_key=os.getenv(\"YOBJ_SECRET_KEY\")\n",
    ")\n",
    "\n",
    "from jupyterthemes import jtplot\n",
    "jtplot.style(context='notebook', ticks=True, grid=False)"
   ]
  },
  {
   "cell_type": "code",
   "execution_count": 2,
   "metadata": {},
   "outputs": [],
   "source": [
    "def get_encoding(f):\n",
    "    import chardet\n",
    "    with open(f, 'rb') as f:\n",
    "        return chardet.detect(f.read())[\"encoding\"]\n",
    "\n",
    "def dt_split(d):\n",
    "    try:\n",
    "        return d[:10] + ' ' + d[10:]\n",
    "    except:\n",
    "        return np.nan \n",
    "\n",
    "def dt_convert(x, f='%Y-%m-%d %H:%M:%S'):\n",
    "    try:\n",
    "        return datetime.datetime.strptime(x, f)\n",
    "    except Exception as e:\n",
    "        print(e)\n",
    "        return np.nan\n",
    "\n",
    "# функция для отображения гистограммы и боксплота\n",
    "def histbox(values, figsize=(8, 8), title=None, bins=11, xlabel=None, whis=1.5, \n",
    "            flierprops=dict(markerfacecolor='r', marker='s'), boxprops=dict(color='white'), whiskerprops=dict(color='#FFC358'), xlim=None, **kwargs):\n",
    "    # Построение гистограммы\n",
    "    fig, ax1 = plt.subplots(figsize=figsize)\n",
    "    plt.title(title)\n",
    "    ax1.hist(values, bins=bins, label='Гистограмма', **kwargs)\n",
    "    ax1.set_xlabel(xlabel)\n",
    "    ax1.legend()\n",
    "    ax1.set_xlim(xlim)\n",
    "    ax1.grid(True)\n",
    "    ax2 = ax1.twinx()\n",
    "    \n",
    "    ax2.boxplot(values, vert=False, whis=whis, notch=True, capprops=whiskerprops, \n",
    "                flierprops=flierprops, boxprops=boxprops, whiskerprops=whiskerprops)\n",
    "    ax2.set_xlim(xlim)\n",
    "    plt.show()\n",
    "    \n",
    "# функция для отображения гистограммы и боксплота\n",
    "def histbox_qqplot(values, figsize=(8, 8), title=None, bins=11, xlabel=None, whis=1.5, \n",
    "            flierprops=dict(markerfacecolor='r', marker='s'), boxprops=dict(color='white'), whiskerprops=dict(color='#FFC358'), xlim=None, **kwargs):\n",
    "    fig = plt.figure(figsize=figsize, dpi=100)\n",
    "    ax1 = fig.add_subplot(221)\n",
    "    ax1.set(title=title)\n",
    "    # гистограмма и боксплот\n",
    "    ax1.hist(values, bins=bins, label='Гистограмма', **kwargs)\n",
    "    ax1.set_xlabel(xlabel)\n",
    "    ax1.legend()\n",
    "    ax1.set_xlim(xlim)\n",
    "    ax1.grid(True, color='grey', linestyle='-', linewidth=0.25)\n",
    "    ax2 = ax1.twinx()\n",
    "\n",
    "    ax2.boxplot(values, vert=False, whis=whis, notch=True, capprops=whiskerprops, \n",
    "                    flierprops=flierprops, boxprops=boxprops, whiskerprops=whiskerprops)\n",
    "    ax2.set_xlim(xlim)\n",
    "    ax3 = fig.add_subplot(222)\n",
    "    ax3.set(title=title)\n",
    "    # qqplot\n",
    "    sm.qqplot(values, line='45', fit=True, ax=ax3)\n",
    "    ax3.grid(True, color='grey', linestyle='-', linewidth=0.25)\n",
    "    plt.show()"
   ]
  },
  {
   "cell_type": "code",
   "execution_count": 3,
   "metadata": {},
   "outputs": [],
   "source": [
    "def base_preprocessing(d):\n",
    "    # нижний регистр наименований столбцов\n",
    "    d.columns = [col.lower() for col in d.columns]\n",
    "\n",
    "    # дропнем дубликаты\n",
    "    print(f'Размер данных до: {d.shape}')\n",
    "    d = d.drop_duplicates()\n",
    "    print(f'Размер данных после: {d.shape}')\n",
    "\n",
    "    # убираем столбцы, в которых 100% пропусков\n",
    "    d = d[[col for col in d.columns if d[col].isna().sum() != d.shape[0]]]\n",
    "    print(f'Размер данных после 100% пропусков: {d.shape}')\n",
    "    return d\n",
    "\n",
    "def to_display(d):\n",
    "    display(HTML(d.to_html()))\n",
    "    \n",
    "def obj_list():\n",
    "    # Получить список объектов в бакете\n",
    "    for key in s3.list_objects(Bucket='bucket-2-pp')['Contents']:\n",
    "        print(key['Key'])\n",
    "\n",
    "def get_obj(link, ends='csv'):\n",
    "    try:\n",
    "        # Получить объект\n",
    "        get_object_response = s3.get_object(Bucket='bucket-2-pp',\n",
    "                                                Key=link)\n",
    "        if ends == 'csv':\n",
    "            return pd.read_csv(get_object_response['Body'], sep=';')\n",
    "        elif ends in ['xls', 'xlsx']:\n",
    "\n",
    "            # кодируем объект в таблицу пандас\n",
    "            return pd.read_excel(io.BytesIO(get_object_response['Body'].read()), encoding='utf-8')\n",
    "        else:\n",
    "            return None\n",
    "    except Exception as e:\n",
    "        return e\n",
    "        \n",
    "from botocore.exceptions import ClientError\n",
    "\n",
    "def upload_file(file_name, bucket, object_name=None, s3_client=None):\n",
    "    \"\"\"Upload a file to an S3 bucket\n",
    "\n",
    "    :param file_name: File to upload\n",
    "    :param bucket: Bucket to upload to\n",
    "    :param object_name: S3 object name. If not specified then file_name is used\n",
    "    :return: True if file was uploaded, else False\n",
    "    \"\"\"\n",
    "\n",
    "    # If S3 object_name was not specified, use file_name\n",
    "    if object_name is None:\n",
    "        object_name = file_name\n",
    "\n",
    "    # Upload the file\n",
    "    try:\n",
    "        response = s3_client.upload_file(file_name, bucket, object_name)\n",
    "    except ClientError as e:\n",
    "        print(e)\n",
    "        return False\n",
    "    return True\n",
    "\n",
    "#upload_file('ptl.gzip', bucket='bucket-2-pp', \n",
    "#            object_name='ККЦ-ПТЛ(Новая структура)/Часть ПТЛ/Линейная выгрузка по ПТЛ.gzip',s3_client=s3)"
   ]
  },
  {
   "cell_type": "code",
   "execution_count": 4,
   "metadata": {},
   "outputs": [],
   "source": [
    "def heil(t, n_str=5):\n",
    "    display(pd.concat([t.head(n_str),t.tail(n_str)], axis=0))\n",
    "    \n",
    "# Function to Detection Outlier on one-dimentional datasets.\n",
    "def find_anomalies(ar, k=1.5):\n",
    "    p = np.percentile(ar, [25, 75])\n",
    "    iqr = np.fabs(np.diff(p))[0]\n",
    "    return ar[(ar <= p[1] + k * iqr) & (ar >= p[0] - k * iqr)], (p[0] - k * iqr, p[1] + k * iqr)"
   ]
  },
  {
   "cell_type": "code",
   "execution_count": 5,
   "metadata": {},
   "outputs": [],
   "source": [
    "def to_tlg(msg):\n",
    "    import requests\n",
    "    url = f\"https://api.telegram.org/bot279783998:AAE6cxVCwU97lSbyAu0Af6EWrhpAIUV6wno/sendMessage?chat_id=-155357321&text={msg}\"\n",
    "    try:\n",
    "        res = requests.get(url)\n",
    "        return res.status_code\n",
    "    except Exception as e:\n",
    "        return str(e)"
   ]
  },
  {
   "cell_type": "code",
   "execution_count": 6,
   "metadata": {},
   "outputs": [],
   "source": [
    "# complementary colors\n",
    "color_pairs = [\n",
    "    ['#381eff', '#ff9a1e'], #0\n",
    "    ['#c002ff', '#ffdd02'], #1\n",
    "    ['#99ff00', '#ff0091'], #2\n",
    "    ['#1eff00', '#ff0015'], #3\n",
    "    ['#ff4000', '#00ffea'], #4\n",
    "    ['#ff8400', '#000dff']  #5\n",
    "]\n",
    "\n",
    "# triads colors\n",
    "color_triads = [\n",
    "    ['#ffff00', '#ff00ff', '#00ffff'], #0\n",
    "    ['#00ff00', '#ff0000', '#0000ff'], #1\n",
    "    ['#9900cc', '#00cc99', '#cc9900'], #2\n",
    "    ['#ff9900', '#9900ff', '#00ff99'], #3\n",
    "]\n",
    "\n",
    "# tetra colors\n",
    "color_tetras = [\n",
    "    ['#ffff00', '#0000ff', '#ff00ff', '#00ff00'], #0\n",
    "    ['#00ff00', '#ff00ff', '#ff0000', '#00ffff'], #1\n",
    "    ['#9900cc', '#33cc00', '#00cc99', '#cc0033'], #2\n",
    "    ['#ff9900', '#0066ff', '#9900ff', '#66ff00'], #3\n",
    "]\n",
    "\n",
    "import matplotlib._color_data as mcd\n",
    "colors = list(dict(mcd.TABLEAU_COLORS).values())"
   ]
  },
  {
   "cell_type": "code",
   "execution_count": 7,
   "metadata": {},
   "outputs": [],
   "source": [
    "from sqlalchemy import create_engine\n",
    "\n",
    "db_config = {'user': 'psqlad',\n",
    "             'pwd': 'W11Ca',\n",
    "             'host': 'localhost',\n",
    "             'port': 5432,\n",
    "             'db': 'erg'}\n",
    "\n",
    "engine = create_engine('postgresql://{}:{}@{}:{}/{}'.format(db_config['user'],\n",
    "                                                            db_config['pwd'],\n",
    "                                                            db_config['host'],\n",
    "                                                            db_config['port'],\n",
    "                                                            db_config['db']), client_encoding='utf-8')"
   ]
  },
  {
   "cell_type": "markdown",
   "metadata": {},
   "source": [
    "## Feature selection"
   ]
  },
  {
   "cell_type": "code",
   "execution_count": 8,
   "metadata": {},
   "outputs": [],
   "source": [
    "from sklearn.ensemble import RandomForestClassifier, RandomForestRegressor\n",
    "from sklearn.model_selection import StratifiedKFold, train_test_split, RandomizedSearchCV\n",
    "from sklearn.datasets import load_breast_cancer"
   ]
  },
  {
   "cell_type": "code",
   "execution_count": 9,
   "metadata": {},
   "outputs": [],
   "source": [
    "f = '/Users/admin/Downloads/urev/scripts/ml_datasets/titanic/train.csv'"
   ]
  },
  {
   "cell_type": "code",
   "execution_count": 10,
   "metadata": {},
   "outputs": [],
   "source": [
    "d = pd.read_csv(f, sep=',', index_col=0)"
   ]
  },
  {
   "cell_type": "code",
   "execution_count": 11,
   "metadata": {},
   "outputs": [
    {
     "data": {
      "text/html": [
       "<div>\n",
       "<style scoped>\n",
       "    .dataframe tbody tr th:only-of-type {\n",
       "        vertical-align: middle;\n",
       "    }\n",
       "\n",
       "    .dataframe tbody tr th {\n",
       "        vertical-align: top;\n",
       "    }\n",
       "\n",
       "    .dataframe thead th {\n",
       "        text-align: right;\n",
       "    }\n",
       "</style>\n",
       "<table border=\"1\" class=\"dataframe\">\n",
       "  <thead>\n",
       "    <tr style=\"text-align: right;\">\n",
       "      <th></th>\n",
       "      <th>Survived</th>\n",
       "      <th>Pclass</th>\n",
       "      <th>Name</th>\n",
       "      <th>Sex</th>\n",
       "      <th>Age</th>\n",
       "      <th>SibSp</th>\n",
       "      <th>Parch</th>\n",
       "      <th>Ticket</th>\n",
       "      <th>Fare</th>\n",
       "      <th>Cabin</th>\n",
       "      <th>Embarked</th>\n",
       "    </tr>\n",
       "    <tr>\n",
       "      <th>PassengerId</th>\n",
       "      <th></th>\n",
       "      <th></th>\n",
       "      <th></th>\n",
       "      <th></th>\n",
       "      <th></th>\n",
       "      <th></th>\n",
       "      <th></th>\n",
       "      <th></th>\n",
       "      <th></th>\n",
       "      <th></th>\n",
       "      <th></th>\n",
       "    </tr>\n",
       "  </thead>\n",
       "  <tbody>\n",
       "    <tr>\n",
       "      <td>1</td>\n",
       "      <td>0</td>\n",
       "      <td>3</td>\n",
       "      <td>Braund, Mr. Owen Harris</td>\n",
       "      <td>male</td>\n",
       "      <td>22.0</td>\n",
       "      <td>1</td>\n",
       "      <td>0</td>\n",
       "      <td>A/5 21171</td>\n",
       "      <td>7.2500</td>\n",
       "      <td>NaN</td>\n",
       "      <td>S</td>\n",
       "    </tr>\n",
       "    <tr>\n",
       "      <td>2</td>\n",
       "      <td>1</td>\n",
       "      <td>1</td>\n",
       "      <td>Cumings, Mrs. John Bradley (Florence Briggs Th...</td>\n",
       "      <td>female</td>\n",
       "      <td>38.0</td>\n",
       "      <td>1</td>\n",
       "      <td>0</td>\n",
       "      <td>PC 17599</td>\n",
       "      <td>71.2833</td>\n",
       "      <td>C85</td>\n",
       "      <td>C</td>\n",
       "    </tr>\n",
       "    <tr>\n",
       "      <td>3</td>\n",
       "      <td>1</td>\n",
       "      <td>3</td>\n",
       "      <td>Heikkinen, Miss. Laina</td>\n",
       "      <td>female</td>\n",
       "      <td>26.0</td>\n",
       "      <td>0</td>\n",
       "      <td>0</td>\n",
       "      <td>STON/O2. 3101282</td>\n",
       "      <td>7.9250</td>\n",
       "      <td>NaN</td>\n",
       "      <td>S</td>\n",
       "    </tr>\n",
       "    <tr>\n",
       "      <td>4</td>\n",
       "      <td>1</td>\n",
       "      <td>1</td>\n",
       "      <td>Futrelle, Mrs. Jacques Heath (Lily May Peel)</td>\n",
       "      <td>female</td>\n",
       "      <td>35.0</td>\n",
       "      <td>1</td>\n",
       "      <td>0</td>\n",
       "      <td>113803</td>\n",
       "      <td>53.1000</td>\n",
       "      <td>C123</td>\n",
       "      <td>S</td>\n",
       "    </tr>\n",
       "    <tr>\n",
       "      <td>5</td>\n",
       "      <td>0</td>\n",
       "      <td>3</td>\n",
       "      <td>Allen, Mr. William Henry</td>\n",
       "      <td>male</td>\n",
       "      <td>35.0</td>\n",
       "      <td>0</td>\n",
       "      <td>0</td>\n",
       "      <td>373450</td>\n",
       "      <td>8.0500</td>\n",
       "      <td>NaN</td>\n",
       "      <td>S</td>\n",
       "    </tr>\n",
       "    <tr>\n",
       "      <td>887</td>\n",
       "      <td>0</td>\n",
       "      <td>2</td>\n",
       "      <td>Montvila, Rev. Juozas</td>\n",
       "      <td>male</td>\n",
       "      <td>27.0</td>\n",
       "      <td>0</td>\n",
       "      <td>0</td>\n",
       "      <td>211536</td>\n",
       "      <td>13.0000</td>\n",
       "      <td>NaN</td>\n",
       "      <td>S</td>\n",
       "    </tr>\n",
       "    <tr>\n",
       "      <td>888</td>\n",
       "      <td>1</td>\n",
       "      <td>1</td>\n",
       "      <td>Graham, Miss. Margaret Edith</td>\n",
       "      <td>female</td>\n",
       "      <td>19.0</td>\n",
       "      <td>0</td>\n",
       "      <td>0</td>\n",
       "      <td>112053</td>\n",
       "      <td>30.0000</td>\n",
       "      <td>B42</td>\n",
       "      <td>S</td>\n",
       "    </tr>\n",
       "    <tr>\n",
       "      <td>889</td>\n",
       "      <td>0</td>\n",
       "      <td>3</td>\n",
       "      <td>Johnston, Miss. Catherine Helen \"Carrie\"</td>\n",
       "      <td>female</td>\n",
       "      <td>NaN</td>\n",
       "      <td>1</td>\n",
       "      <td>2</td>\n",
       "      <td>W./C. 6607</td>\n",
       "      <td>23.4500</td>\n",
       "      <td>NaN</td>\n",
       "      <td>S</td>\n",
       "    </tr>\n",
       "    <tr>\n",
       "      <td>890</td>\n",
       "      <td>1</td>\n",
       "      <td>1</td>\n",
       "      <td>Behr, Mr. Karl Howell</td>\n",
       "      <td>male</td>\n",
       "      <td>26.0</td>\n",
       "      <td>0</td>\n",
       "      <td>0</td>\n",
       "      <td>111369</td>\n",
       "      <td>30.0000</td>\n",
       "      <td>C148</td>\n",
       "      <td>C</td>\n",
       "    </tr>\n",
       "    <tr>\n",
       "      <td>891</td>\n",
       "      <td>0</td>\n",
       "      <td>3</td>\n",
       "      <td>Dooley, Mr. Patrick</td>\n",
       "      <td>male</td>\n",
       "      <td>32.0</td>\n",
       "      <td>0</td>\n",
       "      <td>0</td>\n",
       "      <td>370376</td>\n",
       "      <td>7.7500</td>\n",
       "      <td>NaN</td>\n",
       "      <td>Q</td>\n",
       "    </tr>\n",
       "  </tbody>\n",
       "</table>\n",
       "</div>"
      ],
      "text/plain": [
       "             Survived  Pclass  \\\n",
       "PassengerId                     \n",
       "1                   0       3   \n",
       "2                   1       1   \n",
       "3                   1       3   \n",
       "4                   1       1   \n",
       "5                   0       3   \n",
       "887                 0       2   \n",
       "888                 1       1   \n",
       "889                 0       3   \n",
       "890                 1       1   \n",
       "891                 0       3   \n",
       "\n",
       "                                                          Name     Sex   Age  \\\n",
       "PassengerId                                                                    \n",
       "1                                      Braund, Mr. Owen Harris    male  22.0   \n",
       "2            Cumings, Mrs. John Bradley (Florence Briggs Th...  female  38.0   \n",
       "3                                       Heikkinen, Miss. Laina  female  26.0   \n",
       "4                 Futrelle, Mrs. Jacques Heath (Lily May Peel)  female  35.0   \n",
       "5                                     Allen, Mr. William Henry    male  35.0   \n",
       "887                                      Montvila, Rev. Juozas    male  27.0   \n",
       "888                               Graham, Miss. Margaret Edith  female  19.0   \n",
       "889                   Johnston, Miss. Catherine Helen \"Carrie\"  female   NaN   \n",
       "890                                      Behr, Mr. Karl Howell    male  26.0   \n",
       "891                                        Dooley, Mr. Patrick    male  32.0   \n",
       "\n",
       "             SibSp  Parch            Ticket     Fare Cabin Embarked  \n",
       "PassengerId                                                          \n",
       "1                1      0         A/5 21171   7.2500   NaN        S  \n",
       "2                1      0          PC 17599  71.2833   C85        C  \n",
       "3                0      0  STON/O2. 3101282   7.9250   NaN        S  \n",
       "4                1      0            113803  53.1000  C123        S  \n",
       "5                0      0            373450   8.0500   NaN        S  \n",
       "887              0      0            211536  13.0000   NaN        S  \n",
       "888              0      0            112053  30.0000   B42        S  \n",
       "889              1      2        W./C. 6607  23.4500   NaN        S  \n",
       "890              0      0            111369  30.0000  C148        C  \n",
       "891              0      0            370376   7.7500   NaN        Q  "
      ]
     },
     "metadata": {},
     "output_type": "display_data"
    }
   ],
   "source": [
    "heil(d)"
   ]
  },
  {
   "cell_type": "code",
   "execution_count": 12,
   "metadata": {},
   "outputs": [],
   "source": [
    "data = {\n",
    "    'data': d.drop('Survived', axis=1).values,\n",
    "    'target': d['Survived'].values,\n",
    "    'target_name': 'Survived',\n",
    "    'feature_names': d.drop('Survived', axis=1).columns\n",
    "}"
   ]
  },
  {
   "cell_type": "code",
   "execution_count": 13,
   "metadata": {},
   "outputs": [],
   "source": [
    "target_feature = data['target_name']"
   ]
  },
  {
   "cell_type": "code",
   "execution_count": 14,
   "metadata": {},
   "outputs": [],
   "source": [
    "import json"
   ]
  },
  {
   "cell_type": "code",
   "execution_count": 15,
   "metadata": {},
   "outputs": [],
   "source": [
    "with open('/Users/admin/Downloads/titanic_columns.json', 'w') as f:\n",
    "    f.write(json.dumps({col: [str(d.reset_index()[col].dtype), col] for col in d.reset_index().columns}))"
   ]
  },
  {
   "cell_type": "code",
   "execution_count": 16,
   "metadata": {},
   "outputs": [],
   "source": [
    "with open('/Users/admin/Downloads/titanic.json', 'w') as f:\n",
    "    f.write(json.dumps(d.reset_index().to_dict('records')))"
   ]
  },
  {
   "cell_type": "code",
   "execution_count": 17,
   "metadata": {},
   "outputs": [],
   "source": [
    "df = pd.DataFrame(data=data['data'], columns=data['feature_names'])\\\n",
    "    .assign(target=data['target'])"
   ]
  },
  {
   "cell_type": "code",
   "execution_count": 18,
   "metadata": {},
   "outputs": [
    {
     "data": {
      "text/html": [
       "<div>\n",
       "<style scoped>\n",
       "    .dataframe tbody tr th:only-of-type {\n",
       "        vertical-align: middle;\n",
       "    }\n",
       "\n",
       "    .dataframe tbody tr th {\n",
       "        vertical-align: top;\n",
       "    }\n",
       "\n",
       "    .dataframe thead th {\n",
       "        text-align: right;\n",
       "    }\n",
       "</style>\n",
       "<table border=\"1\" class=\"dataframe\">\n",
       "  <thead>\n",
       "    <tr style=\"text-align: right;\">\n",
       "      <th></th>\n",
       "      <th>Pclass</th>\n",
       "      <th>Name</th>\n",
       "      <th>Sex</th>\n",
       "      <th>Age</th>\n",
       "      <th>SibSp</th>\n",
       "      <th>Parch</th>\n",
       "      <th>Ticket</th>\n",
       "      <th>Fare</th>\n",
       "      <th>Cabin</th>\n",
       "      <th>Embarked</th>\n",
       "      <th>target</th>\n",
       "    </tr>\n",
       "  </thead>\n",
       "  <tbody>\n",
       "    <tr>\n",
       "      <td>0</td>\n",
       "      <td>3</td>\n",
       "      <td>Braund, Mr. Owen Harris</td>\n",
       "      <td>male</td>\n",
       "      <td>22</td>\n",
       "      <td>1</td>\n",
       "      <td>0</td>\n",
       "      <td>A/5 21171</td>\n",
       "      <td>7.25</td>\n",
       "      <td>NaN</td>\n",
       "      <td>S</td>\n",
       "      <td>0</td>\n",
       "    </tr>\n",
       "    <tr>\n",
       "      <td>1</td>\n",
       "      <td>1</td>\n",
       "      <td>Cumings, Mrs. John Bradley (Florence Briggs Th...</td>\n",
       "      <td>female</td>\n",
       "      <td>38</td>\n",
       "      <td>1</td>\n",
       "      <td>0</td>\n",
       "      <td>PC 17599</td>\n",
       "      <td>71.2833</td>\n",
       "      <td>C85</td>\n",
       "      <td>C</td>\n",
       "      <td>1</td>\n",
       "    </tr>\n",
       "    <tr>\n",
       "      <td>2</td>\n",
       "      <td>3</td>\n",
       "      <td>Heikkinen, Miss. Laina</td>\n",
       "      <td>female</td>\n",
       "      <td>26</td>\n",
       "      <td>0</td>\n",
       "      <td>0</td>\n",
       "      <td>STON/O2. 3101282</td>\n",
       "      <td>7.925</td>\n",
       "      <td>NaN</td>\n",
       "      <td>S</td>\n",
       "      <td>1</td>\n",
       "    </tr>\n",
       "    <tr>\n",
       "      <td>3</td>\n",
       "      <td>1</td>\n",
       "      <td>Futrelle, Mrs. Jacques Heath (Lily May Peel)</td>\n",
       "      <td>female</td>\n",
       "      <td>35</td>\n",
       "      <td>1</td>\n",
       "      <td>0</td>\n",
       "      <td>113803</td>\n",
       "      <td>53.1</td>\n",
       "      <td>C123</td>\n",
       "      <td>S</td>\n",
       "      <td>1</td>\n",
       "    </tr>\n",
       "    <tr>\n",
       "      <td>4</td>\n",
       "      <td>3</td>\n",
       "      <td>Allen, Mr. William Henry</td>\n",
       "      <td>male</td>\n",
       "      <td>35</td>\n",
       "      <td>0</td>\n",
       "      <td>0</td>\n",
       "      <td>373450</td>\n",
       "      <td>8.05</td>\n",
       "      <td>NaN</td>\n",
       "      <td>S</td>\n",
       "      <td>0</td>\n",
       "    </tr>\n",
       "  </tbody>\n",
       "</table>\n",
       "</div>"
      ],
      "text/plain": [
       "  Pclass                                               Name     Sex Age SibSp  \\\n",
       "0      3                            Braund, Mr. Owen Harris    male  22     1   \n",
       "1      1  Cumings, Mrs. John Bradley (Florence Briggs Th...  female  38     1   \n",
       "2      3                             Heikkinen, Miss. Laina  female  26     0   \n",
       "3      1       Futrelle, Mrs. Jacques Heath (Lily May Peel)  female  35     1   \n",
       "4      3                           Allen, Mr. William Henry    male  35     0   \n",
       "\n",
       "  Parch            Ticket     Fare Cabin Embarked  target  \n",
       "0     0         A/5 21171     7.25   NaN        S       0  \n",
       "1     0          PC 17599  71.2833   C85        C       1  \n",
       "2     0  STON/O2. 3101282    7.925   NaN        S       1  \n",
       "3     0            113803     53.1  C123        S       1  \n",
       "4     0            373450     8.05   NaN        S       0  "
      ]
     },
     "execution_count": 18,
     "metadata": {},
     "output_type": "execute_result"
    }
   ],
   "source": [
    "df.head()"
   ]
  },
  {
   "cell_type": "markdown",
   "metadata": {},
   "source": [
    "<hr style=\"border: 2px solid green;\" />"
   ]
  },
  {
   "cell_type": "code",
   "execution_count": 19,
   "metadata": {},
   "outputs": [],
   "source": [
    "data_structure = {\n",
    "    'data': d,\n",
    "    'target_name': 'Survived',\n",
    "    'feature_names': d.drop('Survived', axis=1).columns,\n",
    "    'descr': 'Description'\n",
    "}"
   ]
  },
  {
   "cell_type": "code",
   "execution_count": 47,
   "metadata": {},
   "outputs": [],
   "source": [
    "# тут прописать импорт необходимых библиотек\n",
    "import pandas as pd\n",
    "\n",
    "class ShareNans():\n",
    "    __doc__ = \"\"\"\n",
    "    ShareNans - nans percentage selection method\n",
    "    param:\n",
    "     - thr_nulls = float (0-1) - is percent of nans values of column\n",
    "    \n",
    "    methods:\n",
    "     - fit(data) - вычисляет процент пропусков для каждого столбца, на вход подается data структура (описание выше)\n",
    "     - fit_transform(data) - обучает модель и возвращает dataframe, содержащий selected_columns\n",
    "     \n",
    "    attributes:\n",
    "     - selected_columns_ - отобранные методом признаки\n",
    "     - advanced_info_ - словарь, ключи - признаки в переданных данных, значения - вычисленная статистика метода\n",
    "    \"\"\"\n",
    "    def __init__(self, thr_nulls=0.1):\n",
    "        self.thr_nulls = thr_nulls\n",
    "        self.selected_columns_ = []\n",
    "        self.advanced_info_ = {}\n",
    "\n",
    "    def fit(self, data):\n",
    "        self.advanced_info_ = {col: data['data'][col].isna().sum() / data['data'].shape[0] for col in data['data'].columns}\n",
    "        self.selected_columns_ = [col for col in self.advanced_info_.keys() if self.advanced_info_[col] <= self.thr_nulls]\n",
    "\n",
    "    def fit_transform(self, data):\n",
    "        self.fit(data)\n",
    "        return data[self.selected_columns_]\n",
    "\n",
    "\n",
    "# выполнять только для определенного набора признаков, нельзя для категориальных признаков\n",
    "class ShareUniq():\n",
    "    __doc__ = \"\"\"\n",
    "    ShareUniq - uniq percentage selection method\n",
    "    param:\n",
    "     - thr_nunique = float (0-1) - is percent of uniq values of column\n",
    "    \n",
    "    methods:\n",
    "     - fit(data) - вычисляет процент пропусков для каждого столбца, на вход подается data структура (описание выше)\n",
    "     - fit_transform(data) - обучает модель и возвращает dataframe, содержащий selected_columns\n",
    "     \n",
    "    attributes:\n",
    "     - selected_columns_ - отобранные методом признаки\n",
    "     - advanced_info_ - словарь, ключи - признаки в переданных данных, значения - вычисленная статистика метода\n",
    "    \"\"\"\n",
    "    def __init__(self, thr_nunique=0.9):\n",
    "        self.thr_nunique = thr_nunique\n",
    "        self.selected_columns_ = []\n",
    "        self.advanced_info_ = {}\n",
    "\n",
    "    def fit(self, data):\n",
    "        self.advanced_info_ = {col: data['data'][col].nunique() / data['data'].shape[0] for col in data['data'].columns}\n",
    "        self.selected_columns_ = [col for col in self.advanced_info_.keys() if self.advanced_info_[col] >= self.thr_nunique]\n",
    "\n",
    "    def fit_transform(self, data):\n",
    "        self.fit(data)\n",
    "        return data[self.selected_columns_]\n",
    "\n",
    "\n",
    "class SelectByCorr():\n",
    "    def __init__(self, thr_corr_pair=0.25, thr_corr_with_target=0.5):\n",
    "        self.thr_corr_pair = thr_corr_pair\n",
    "        self.thr_corr_with_target = thr_corr_with_target\n",
    "        self.selected_columns_ = []\n",
    "        self.advanced_info_ = {}\n",
    "\n",
    "    def fit(self, data, **kwargs):\n",
    "        corr_selection_result = data['data'].corr(**kwargs)\\\n",
    "            .unstack()\\\n",
    "            .reset_index()\\\n",
    "            .rename(columns={'level_0': 'feature_1', 'level_1': 'feature_2', 0: 'corr_abs'})\\\n",
    "            .assign(corr_abs = lambda row: row['corr_abs'].map(np.fabs))\\\n",
    "            .assign(is_target = lambda row: (row['feature_1'] == data['target_name']).astype(int))\\\n",
    "            .query(\"corr_abs!=1\")\\\n",
    "            .query(\"(corr_abs > @self.thr_corr_with_target and is_target==1) or (corr_abs < @self.thr_corr_pair and is_target==0)\")\n",
    "        \n",
    "        self.advanced_info_ = corr_selection_result\n",
    "        self.selected_columns_ = list(set(corr_selection_result['feature_1']) & set(corr_selection_result['feature_2']) - set([data['target_name']]))\n",
    "\n",
    "    def fit_transform(self, data):\n",
    "        self.fit(data)\n",
    "        return data[self.selected_columns_]"
   ]
  },
  {
   "cell_type": "code",
   "execution_count": 36,
   "metadata": {},
   "outputs": [],
   "source": [
    "sn = ShareNans(0.01)"
   ]
  },
  {
   "cell_type": "code",
   "execution_count": 37,
   "metadata": {},
   "outputs": [],
   "source": [
    "sn.fit(data_structure)"
   ]
  },
  {
   "cell_type": "code",
   "execution_count": 39,
   "metadata": {},
   "outputs": [
    {
     "data": {
      "text/plain": [
       "{'Survived': 0.0,\n",
       " 'Pclass': 0.0,\n",
       " 'Name': 0.0,\n",
       " 'Sex': 0.0,\n",
       " 'Age': 0.19865319865319866,\n",
       " 'SibSp': 0.0,\n",
       " 'Parch': 0.0,\n",
       " 'Ticket': 0.0,\n",
       " 'Fare': 0.0,\n",
       " 'Cabin': 0.7710437710437711,\n",
       " 'Embarked': 0.002244668911335578}"
      ]
     },
     "execution_count": 39,
     "metadata": {},
     "output_type": "execute_result"
    }
   ],
   "source": [
    "sn.advanced_info_"
   ]
  },
  {
   "cell_type": "code",
   "execution_count": 40,
   "metadata": {},
   "outputs": [
    {
     "data": {
      "text/plain": [
       "['Survived',\n",
       " 'Pclass',\n",
       " 'Name',\n",
       " 'Sex',\n",
       " 'SibSp',\n",
       " 'Parch',\n",
       " 'Ticket',\n",
       " 'Fare',\n",
       " 'Embarked']"
      ]
     },
     "execution_count": 40,
     "metadata": {},
     "output_type": "execute_result"
    }
   ],
   "source": [
    "sn.selected_columns_"
   ]
  },
  {
   "cell_type": "markdown",
   "metadata": {},
   "source": [
    "### ShareUniq"
   ]
  },
  {
   "cell_type": "code",
   "execution_count": 43,
   "metadata": {},
   "outputs": [
    {
     "data": {
      "text/plain": [
       "{'Survived': 0.002244668911335578,\n",
       " 'Pclass': 0.003367003367003367,\n",
       " 'Name': 1.0,\n",
       " 'Sex': 0.002244668911335578,\n",
       " 'Age': 0.09876543209876543,\n",
       " 'SibSp': 0.007856341189674524,\n",
       " 'Parch': 0.007856341189674524,\n",
       " 'Ticket': 0.7643097643097643,\n",
       " 'Fare': 0.2783389450056117,\n",
       " 'Cabin': 0.16498316498316498,\n",
       " 'Embarked': 0.003367003367003367}"
      ]
     },
     "metadata": {},
     "output_type": "display_data"
    },
    {
     "data": {
      "text/plain": [
       "['Name']"
      ]
     },
     "metadata": {},
     "output_type": "display_data"
    }
   ],
   "source": [
    "su = ShareUniq(0.9)\n",
    "su.fit(data_structure)\n",
    "display(su.advanced_info_)\n",
    "display(su.selected_columns_)"
   ]
  },
  {
   "cell_type": "markdown",
   "metadata": {},
   "source": [
    "### SelectByCorr"
   ]
  },
  {
   "cell_type": "code",
   "execution_count": 53,
   "metadata": {},
   "outputs": [
    {
     "data": {
      "text/html": [
       "<div>\n",
       "<style scoped>\n",
       "    .dataframe tbody tr th:only-of-type {\n",
       "        vertical-align: middle;\n",
       "    }\n",
       "\n",
       "    .dataframe tbody tr th {\n",
       "        vertical-align: top;\n",
       "    }\n",
       "\n",
       "    .dataframe thead th {\n",
       "        text-align: right;\n",
       "    }\n",
       "</style>\n",
       "<table border=\"1\" class=\"dataframe\">\n",
       "  <thead>\n",
       "    <tr style=\"text-align: right;\">\n",
       "      <th></th>\n",
       "      <th>feature_1</th>\n",
       "      <th>feature_2</th>\n",
       "      <th>corr_abs</th>\n",
       "      <th>is_target</th>\n",
       "    </tr>\n",
       "  </thead>\n",
       "  <tbody>\n",
       "    <tr>\n",
       "      <td>1</td>\n",
       "      <td>Survived</td>\n",
       "      <td>Pclass</td>\n",
       "      <td>0.339668</td>\n",
       "      <td>1</td>\n",
       "    </tr>\n",
       "    <tr>\n",
       "      <td>5</td>\n",
       "      <td>Survived</td>\n",
       "      <td>Fare</td>\n",
       "      <td>0.323736</td>\n",
       "      <td>1</td>\n",
       "    </tr>\n",
       "    <tr>\n",
       "      <td>9</td>\n",
       "      <td>Pclass</td>\n",
       "      <td>SibSp</td>\n",
       "      <td>0.043019</td>\n",
       "      <td>0</td>\n",
       "    </tr>\n",
       "    <tr>\n",
       "      <td>10</td>\n",
       "      <td>Pclass</td>\n",
       "      <td>Parch</td>\n",
       "      <td>0.022801</td>\n",
       "      <td>0</td>\n",
       "    </tr>\n",
       "    <tr>\n",
       "      <td>12</td>\n",
       "      <td>Age</td>\n",
       "      <td>Survived</td>\n",
       "      <td>0.052565</td>\n",
       "      <td>0</td>\n",
       "    </tr>\n",
       "    <tr>\n",
       "      <td>15</td>\n",
       "      <td>Age</td>\n",
       "      <td>SibSp</td>\n",
       "      <td>0.182061</td>\n",
       "      <td>0</td>\n",
       "    </tr>\n",
       "    <tr>\n",
       "      <td>17</td>\n",
       "      <td>Age</td>\n",
       "      <td>Fare</td>\n",
       "      <td>0.135051</td>\n",
       "      <td>0</td>\n",
       "    </tr>\n",
       "    <tr>\n",
       "      <td>18</td>\n",
       "      <td>SibSp</td>\n",
       "      <td>Survived</td>\n",
       "      <td>0.088879</td>\n",
       "      <td>0</td>\n",
       "    </tr>\n",
       "    <tr>\n",
       "      <td>19</td>\n",
       "      <td>SibSp</td>\n",
       "      <td>Pclass</td>\n",
       "      <td>0.043019</td>\n",
       "      <td>0</td>\n",
       "    </tr>\n",
       "    <tr>\n",
       "      <td>20</td>\n",
       "      <td>SibSp</td>\n",
       "      <td>Age</td>\n",
       "      <td>0.182061</td>\n",
       "      <td>0</td>\n",
       "    </tr>\n",
       "    <tr>\n",
       "      <td>24</td>\n",
       "      <td>Parch</td>\n",
       "      <td>Survived</td>\n",
       "      <td>0.138266</td>\n",
       "      <td>0</td>\n",
       "    </tr>\n",
       "    <tr>\n",
       "      <td>25</td>\n",
       "      <td>Parch</td>\n",
       "      <td>Pclass</td>\n",
       "      <td>0.022801</td>\n",
       "      <td>0</td>\n",
       "    </tr>\n",
       "    <tr>\n",
       "      <td>32</td>\n",
       "      <td>Fare</td>\n",
       "      <td>Age</td>\n",
       "      <td>0.135051</td>\n",
       "      <td>0</td>\n",
       "    </tr>\n",
       "  </tbody>\n",
       "</table>\n",
       "</div>"
      ],
      "text/plain": [
       "   feature_1 feature_2  corr_abs  is_target\n",
       "1   Survived    Pclass  0.339668          1\n",
       "5   Survived      Fare  0.323736          1\n",
       "9     Pclass     SibSp  0.043019          0\n",
       "10    Pclass     Parch  0.022801          0\n",
       "12       Age  Survived  0.052565          0\n",
       "15       Age     SibSp  0.182061          0\n",
       "17       Age      Fare  0.135051          0\n",
       "18     SibSp  Survived  0.088879          0\n",
       "19     SibSp    Pclass  0.043019          0\n",
       "20     SibSp       Age  0.182061          0\n",
       "24     Parch  Survived  0.138266          0\n",
       "25     Parch    Pclass  0.022801          0\n",
       "32      Fare       Age  0.135051          0"
      ]
     },
     "metadata": {},
     "output_type": "display_data"
    },
    {
     "data": {
      "text/plain": [
       "['Age', 'Fare', 'SibSp', 'Pclass', 'Parch']"
      ]
     },
     "metadata": {},
     "output_type": "display_data"
    }
   ],
   "source": [
    "sbc = SelectByCorr(0.25, 0.25)\n",
    "sbc.fit(data_structure, method='spearman')\n",
    "display(sbc.advanced_info_)\n",
    "display(sbc.selected_columns_)"
   ]
  },
  {
   "cell_type": "code",
   "execution_count": null,
   "metadata": {},
   "outputs": [],
   "source": []
  },
  {
   "cell_type": "code",
   "execution_count": null,
   "metadata": {},
   "outputs": [],
   "source": []
  },
  {
   "cell_type": "code",
   "execution_count": null,
   "metadata": {},
   "outputs": [],
   "source": []
  },
  {
   "cell_type": "markdown",
   "metadata": {},
   "source": [
    "<hr style=\"border: 2px solid green;\" />"
   ]
  },
  {
   "cell_type": "markdown",
   "metadata": {},
   "source": [
    "## 1 Методы фильтрации\n",
    "### 1.1 Доля пропусков"
   ]
  },
  {
   "cell_type": "code",
   "execution_count": null,
   "metadata": {},
   "outputs": [],
   "source": [
    "thr_nulls = 0.1"
   ]
  },
  {
   "cell_type": "code",
   "execution_count": null,
   "metadata": {},
   "outputs": [],
   "source": [
    "col_1_1 = [col for col in data['feature_names'] \n",
    "           if df[col].isna().sum() < thr_nulls * data['data'].shape[0]]"
   ]
  },
  {
   "cell_type": "code",
   "execution_count": null,
   "metadata": {},
   "outputs": [],
   "source": [
    "col_1_1"
   ]
  },
  {
   "cell_type": "markdown",
   "metadata": {},
   "source": [
    "### 1.2 Доля уникальных значений"
   ]
  },
  {
   "cell_type": "code",
   "execution_count": null,
   "metadata": {},
   "outputs": [],
   "source": [
    "# доля уникальных значений\n",
    "thr_nunique = 0.1"
   ]
  },
  {
   "cell_type": "code",
   "execution_count": null,
   "metadata": {},
   "outputs": [],
   "source": [
    "print(f\"N features {df.set_index(['target']).shape[1]}\")"
   ]
  },
  {
   "cell_type": "code",
   "execution_count": null,
   "metadata": {},
   "outputs": [],
   "source": [
    "col_1_2 = [col for col in df.set_index(['target']).columns if df[col].nunique()/df.shape[0] > thr_nunique]"
   ]
  },
  {
   "cell_type": "code",
   "execution_count": null,
   "metadata": {},
   "outputs": [],
   "source": [
    "print(f\"N features {df.set_index(['target'])[col_1_2].shape[1]}\")"
   ]
  },
  {
   "cell_type": "code",
   "execution_count": null,
   "metadata": {},
   "outputs": [],
   "source": [
    "col_1_2 = df.drop('target', axis=1).columns.to_list()"
   ]
  },
  {
   "cell_type": "markdown",
   "metadata": {},
   "source": [
    "### 1.3 Correlation-based feature selection"
   ]
  },
  {
   "cell_type": "code",
   "execution_count": null,
   "metadata": {},
   "outputs": [],
   "source": [
    "invertedRdBu = [[0, \"rgb(178,10,28)\"], [.35, \"rgb(230,145,90)\"], [.5, \"rgb(220,170,132)\"], [.6, \"rgb(190,190,190)\"], [.7, \"rgb(106,137,247)\"], [1, \"rgb(5,10,172)\"]]"
   ]
  },
  {
   "cell_type": "code",
   "execution_count": null,
   "metadata": {},
   "outputs": [],
   "source": [
    "corr = df[col_1_2 + ['target']].corr()"
   ]
  },
  {
   "cell_type": "code",
   "execution_count": null,
   "metadata": {},
   "outputs": [],
   "source": [
    "fig = go.Figure(data=[go.Heatmap(z=corr, colorscale=invertedRdBu[::-1], x=corr.columns, y=corr.columns)])\n",
    "fig.update_layout(\n",
    "        title =  dict(text='Корреляции',\n",
    "                               font =dict(color = 'white')),\n",
    "        height=960,\n",
    "        width=1080,\n",
    "        plot_bgcolor=\"rgba(0, 0, 0, 0)\",\n",
    "        paper_bgcolor=\"rgba(0, 0, 0, 0)\"\n",
    "    )\n",
    "fig.update_xaxes(title_font=dict(color='white'), tickcolor='white', tickfont=dict(color='white'), gridwidth=1, gridcolor='grey')\n",
    "fig.update_yaxes(title_font=dict(color='white'), tickcolor='white', tickfont=dict(color='white'), gridwidth=1, gridcolor='grey')\n",
    "fig.show()"
   ]
  },
  {
   "cell_type": "code",
   "execution_count": null,
   "metadata": {},
   "outputs": [],
   "source": [
    "thr_corr_pair = 0.25\n",
    "thr_corr_with_target = 0.5"
   ]
  },
  {
   "cell_type": "code",
   "execution_count": null,
   "metadata": {},
   "outputs": [],
   "source": [
    "corr_selection_result = corr\\\n",
    "    .unstack()\\\n",
    "    .reset_index()\\\n",
    "    .rename(columns={'level_0': 'feature_1', 'level_1': 'feature_2', 0: 'corr_abs'})\\\n",
    "    .assign(corr_abs = lambda row: row['corr_abs'].map(np.fabs))\\\n",
    "    .assign(is_target = lambda row: (row['feature_1'] == 'target').astype(int))\\\n",
    "    .query(\"corr_abs!=1\")\\\n",
    "    .query(\"(corr_abs > @thr_corr_with_target and is_target==1) or (corr_abs < @thr_corr_pair and is_target==0)\")\n",
    "corr_selection_result"
   ]
  },
  {
   "cell_type": "code",
   "execution_count": null,
   "metadata": {},
   "outputs": [],
   "source": [
    "col_1_3 = set(corr_selection_result['feature_1']) & set(corr_selection_result['feature_2']) - set(['target'])"
   ]
  },
  {
   "cell_type": "code",
   "execution_count": null,
   "metadata": {},
   "outputs": [],
   "source": [
    "print(f\"N features {df.set_index(['target'])[col_1_3].shape[1]}\")"
   ]
  },
  {
   "cell_type": "code",
   "execution_count": null,
   "metadata": {},
   "outputs": [],
   "source": []
  },
  {
   "cell_type": "markdown",
   "metadata": {},
   "source": [
    "### 1.4 Соотношение дисперсий"
   ]
  },
  {
   "cell_type": "code",
   "execution_count": null,
   "metadata": {},
   "outputs": [],
   "source": [
    "def dispersion(data):\n",
    "    data = data +1 #avoid 0 division\n",
    "    aritmeticMean = np.mean(data, axis =0 )\n",
    "    geometricMean = np.power(np.prod(data, axis =0 ),1/data.shape[0])\n",
    "    R = aritmeticMean/geometricMean\n",
    "    return R"
   ]
  },
  {
   "cell_type": "code",
   "execution_count": null,
   "metadata": {},
   "outputs": [],
   "source": []
  },
  {
   "cell_type": "code",
   "execution_count": null,
   "metadata": {},
   "outputs": [],
   "source": [
    "R = dispersion(df.drop('target', axis=1))"
   ]
  },
  {
   "cell_type": "code",
   "execution_count": null,
   "metadata": {},
   "outputs": [],
   "source": [
    "R"
   ]
  },
  {
   "cell_type": "code",
   "execution_count": null,
   "metadata": {},
   "outputs": [],
   "source": [
    "col_1_4 = []"
   ]
  },
  {
   "cell_type": "markdown",
   "metadata": {},
   "source": [
    "#### 1.5 Отбор критерием $\\chi^2$"
   ]
  },
  {
   "cell_type": "code",
   "execution_count": 103,
   "metadata": {},
   "outputs": [],
   "source": [
    "from sklearn.feature_selection import chi2, f_regression\n",
    "from sklearn.preprocessing import MinMaxScaler\n",
    "import numpy as np\n",
    "\n",
    "class SelectByMethod():\n",
    "    __doc__ = \"\"\"Doc string\"\"\"\n",
    "    \n",
    "    def __init__(self, thr_alpha=0.1, fillna=True, only_numeric_features=True, model='classification', scaler_for_chi_squared=None):\n",
    "        self.thr_alpha=thr_alpha\n",
    "        self.fillna=fillna\n",
    "        self.only_numeric_features=only_numeric_features\n",
    "        self.model=thr_alpha\n",
    "        self.scaler_for_chi_squared=scaler_for_chi_squared\n",
    "        self.selected_columns_ = []\n",
    "        self.advanced_info_ = {}\n",
    "        \n",
    "    def fit(self, data, fill_value=9999):\n",
    "        X, y = data['data'][data['feature_names']], data['data'][data['target_name']]\n",
    "        \n",
    "        if self.fillna:\n",
    "            X = X.fillna(fill_value)\n",
    "        else:\n",
    "            X = X.dropna()\n",
    "            y = y[X.index]\n",
    "            \n",
    "        if self.only_numeric_features:\n",
    "            X = X.select_dtypes(np.number)\n",
    "            \n",
    "        self.X_columns_ = X.columns\n",
    "            \n",
    "        if self.scaler_for_chi_squared:\n",
    "            X = self.scaler_for_chi_squared.fit_transform(X)\n",
    "            \n",
    "        if self.model == 'classification':\n",
    "            scores = chi2(X,y)\n",
    "        else:\n",
    "            scores = f_regression(X,y)\n",
    "        self.advanced_info_ = {col: score for col, score in zip(self.X_columns_ , scores[1])}\n",
    "        self.selected_columns_ = [col for col, score in zip(self.X_columns_ , scores[1]) if score <= thr_alpha]"
   ]
  },
  {
   "cell_type": "code",
   "execution_count": 104,
   "metadata": {},
   "outputs": [],
   "source": [
    "chi = SelectByMethod(thr_alpha=0.1, fillna=True, only_numeric_features=True,\n",
    "                     model='classification', scaler_for_chi_squared=MinMaxScaler((0, 1)))"
   ]
  },
  {
   "cell_type": "code",
   "execution_count": 105,
   "metadata": {},
   "outputs": [],
   "source": [
    "chi.fit(data_structure)"
   ]
  },
  {
   "cell_type": "code",
   "execution_count": 106,
   "metadata": {},
   "outputs": [
    {
     "data": {
      "text/plain": [
       "{'Pclass': 2.537047387980997e-25,\n",
       " 'Age': 0.005764890959228183,\n",
       " 'SibSp': 0.29224392869817906,\n",
       " 'Parch': 0.0147992453747224,\n",
       " 'Fare': 6.120189341921873e-15}"
      ]
     },
     "metadata": {},
     "output_type": "display_data"
    },
    {
     "data": {
      "text/plain": [
       "['Pclass', 'Age', 'Parch', 'Fare']"
      ]
     },
     "metadata": {},
     "output_type": "display_data"
    }
   ],
   "source": [
    "display(chi.advanced_info_)\n",
    "display(chi.selected_columns_)"
   ]
  },
  {
   "cell_type": "code",
   "execution_count": null,
   "metadata": {},
   "outputs": [],
   "source": []
  },
  {
   "cell_type": "code",
   "execution_count": null,
   "metadata": {},
   "outputs": [],
   "source": []
  },
  {
   "cell_type": "code",
   "execution_count": null,
   "metadata": {},
   "outputs": [],
   "source": []
  },
  {
   "cell_type": "code",
   "execution_count": null,
   "metadata": {},
   "outputs": [],
   "source": []
  },
  {
   "cell_type": "code",
   "execution_count": 55,
   "metadata": {},
   "outputs": [],
   "source": [
    "# преобразование отрицательных признаков\n",
    "min_max_sc = MinMaxScaler((0, 1))"
   ]
  },
  {
   "cell_type": "code",
   "execution_count": 58,
   "metadata": {},
   "outputs": [],
   "source": [
    "X, y = df.drop('target', axis=1).fillna(9999).select_dtypes(np.number), df['target']"
   ]
  },
  {
   "cell_type": "code",
   "execution_count": 59,
   "metadata": {},
   "outputs": [],
   "source": [
    "X_min_max_sc = min_max_sc.fit_transform(X)"
   ]
  },
  {
   "cell_type": "code",
   "execution_count": 64,
   "metadata": {},
   "outputs": [],
   "source": [
    "chi_scores = f_regression(X_min_max_sc,y)"
   ]
  },
  {
   "cell_type": "code",
   "execution_count": 71,
   "metadata": {},
   "outputs": [
    {
     "data": {
      "text/plain": [
       "{'Pclass': 1.8036018463381582e-07,\n",
       " 'Age': 0.014364818799103804,\n",
       " 'SibSp': 0.5699697196703628,\n",
       " 'Parch': 0.194537366143567,\n",
       " 'Fare': 0.00298081971968041}"
      ]
     },
     "execution_count": 71,
     "metadata": {},
     "output_type": "execute_result"
    }
   ],
   "source": [
    "{col: score for col, score in zip(X.columns, chi_scores[1])}"
   ]
  },
  {
   "cell_type": "code",
   "execution_count": 65,
   "metadata": {},
   "outputs": [],
   "source": [
    "thr_alpha = 0.1\n",
    "p_values = pd.Series(chi_scores[1],index = X.columns)\n",
    "p_values_kbest = p_values[p_values < thr_alpha].sort_values(ascending = False )"
   ]
  },
  {
   "cell_type": "code",
   "execution_count": 68,
   "metadata": {},
   "outputs": [
    {
     "data": {
      "text/plain": [
       "Pclass    1.803602e-07\n",
       "Age       1.436482e-02\n",
       "SibSp     5.699697e-01\n",
       "Parch     1.945374e-01\n",
       "Fare      2.980820e-03\n",
       "dtype: float64"
      ]
     },
     "execution_count": 68,
     "metadata": {},
     "output_type": "execute_result"
    }
   ],
   "source": [
    "p_values"
   ]
  },
  {
   "cell_type": "code",
   "execution_count": 66,
   "metadata": {},
   "outputs": [
    {
     "data": {
      "application/vnd.plotly.v1+json": {
       "config": {
        "plotlyServerURL": "https://plot.ly"
       },
       "data": [
        {
         "marker": {
          "color": "#381eff"
         },
         "name": "Pvalue",
         "orientation": "h",
         "type": "bar",
         "x": [
          0.014364818799103804,
          0.00298081971968041,
          1.8036018463381582e-07
         ],
         "y": [
          "Age",
          "Fare",
          "Pclass"
         ]
        }
       ],
       "layout": {
        "height": 640,
        "template": {
         "data": {
          "bar": [
           {
            "error_x": {
             "color": "#f2f5fa"
            },
            "error_y": {
             "color": "#f2f5fa"
            },
            "marker": {
             "line": {
              "color": "rgb(17,17,17)",
              "width": 0.5
             }
            },
            "type": "bar"
           }
          ],
          "barpolar": [
           {
            "marker": {
             "line": {
              "color": "rgb(17,17,17)",
              "width": 0.5
             }
            },
            "type": "barpolar"
           }
          ],
          "carpet": [
           {
            "aaxis": {
             "endlinecolor": "#A2B1C6",
             "gridcolor": "#506784",
             "linecolor": "#506784",
             "minorgridcolor": "#506784",
             "startlinecolor": "#A2B1C6"
            },
            "baxis": {
             "endlinecolor": "#A2B1C6",
             "gridcolor": "#506784",
             "linecolor": "#506784",
             "minorgridcolor": "#506784",
             "startlinecolor": "#A2B1C6"
            },
            "type": "carpet"
           }
          ],
          "choropleth": [
           {
            "colorbar": {
             "outlinewidth": 0,
             "ticks": ""
            },
            "type": "choropleth"
           }
          ],
          "contour": [
           {
            "colorbar": {
             "outlinewidth": 0,
             "ticks": ""
            },
            "colorscale": [
             [
              0,
              "#0d0887"
             ],
             [
              0.1111111111111111,
              "#46039f"
             ],
             [
              0.2222222222222222,
              "#7201a8"
             ],
             [
              0.3333333333333333,
              "#9c179e"
             ],
             [
              0.4444444444444444,
              "#bd3786"
             ],
             [
              0.5555555555555556,
              "#d8576b"
             ],
             [
              0.6666666666666666,
              "#ed7953"
             ],
             [
              0.7777777777777778,
              "#fb9f3a"
             ],
             [
              0.8888888888888888,
              "#fdca26"
             ],
             [
              1,
              "#f0f921"
             ]
            ],
            "type": "contour"
           }
          ],
          "contourcarpet": [
           {
            "colorbar": {
             "outlinewidth": 0,
             "ticks": ""
            },
            "type": "contourcarpet"
           }
          ],
          "heatmap": [
           {
            "colorbar": {
             "outlinewidth": 0,
             "ticks": ""
            },
            "colorscale": [
             [
              0,
              "#0d0887"
             ],
             [
              0.1111111111111111,
              "#46039f"
             ],
             [
              0.2222222222222222,
              "#7201a8"
             ],
             [
              0.3333333333333333,
              "#9c179e"
             ],
             [
              0.4444444444444444,
              "#bd3786"
             ],
             [
              0.5555555555555556,
              "#d8576b"
             ],
             [
              0.6666666666666666,
              "#ed7953"
             ],
             [
              0.7777777777777778,
              "#fb9f3a"
             ],
             [
              0.8888888888888888,
              "#fdca26"
             ],
             [
              1,
              "#f0f921"
             ]
            ],
            "type": "heatmap"
           }
          ],
          "heatmapgl": [
           {
            "colorbar": {
             "outlinewidth": 0,
             "ticks": ""
            },
            "colorscale": [
             [
              0,
              "#0d0887"
             ],
             [
              0.1111111111111111,
              "#46039f"
             ],
             [
              0.2222222222222222,
              "#7201a8"
             ],
             [
              0.3333333333333333,
              "#9c179e"
             ],
             [
              0.4444444444444444,
              "#bd3786"
             ],
             [
              0.5555555555555556,
              "#d8576b"
             ],
             [
              0.6666666666666666,
              "#ed7953"
             ],
             [
              0.7777777777777778,
              "#fb9f3a"
             ],
             [
              0.8888888888888888,
              "#fdca26"
             ],
             [
              1,
              "#f0f921"
             ]
            ],
            "type": "heatmapgl"
           }
          ],
          "histogram": [
           {
            "marker": {
             "colorbar": {
              "outlinewidth": 0,
              "ticks": ""
             }
            },
            "type": "histogram"
           }
          ],
          "histogram2d": [
           {
            "colorbar": {
             "outlinewidth": 0,
             "ticks": ""
            },
            "colorscale": [
             [
              0,
              "#0d0887"
             ],
             [
              0.1111111111111111,
              "#46039f"
             ],
             [
              0.2222222222222222,
              "#7201a8"
             ],
             [
              0.3333333333333333,
              "#9c179e"
             ],
             [
              0.4444444444444444,
              "#bd3786"
             ],
             [
              0.5555555555555556,
              "#d8576b"
             ],
             [
              0.6666666666666666,
              "#ed7953"
             ],
             [
              0.7777777777777778,
              "#fb9f3a"
             ],
             [
              0.8888888888888888,
              "#fdca26"
             ],
             [
              1,
              "#f0f921"
             ]
            ],
            "type": "histogram2d"
           }
          ],
          "histogram2dcontour": [
           {
            "colorbar": {
             "outlinewidth": 0,
             "ticks": ""
            },
            "colorscale": [
             [
              0,
              "#0d0887"
             ],
             [
              0.1111111111111111,
              "#46039f"
             ],
             [
              0.2222222222222222,
              "#7201a8"
             ],
             [
              0.3333333333333333,
              "#9c179e"
             ],
             [
              0.4444444444444444,
              "#bd3786"
             ],
             [
              0.5555555555555556,
              "#d8576b"
             ],
             [
              0.6666666666666666,
              "#ed7953"
             ],
             [
              0.7777777777777778,
              "#fb9f3a"
             ],
             [
              0.8888888888888888,
              "#fdca26"
             ],
             [
              1,
              "#f0f921"
             ]
            ],
            "type": "histogram2dcontour"
           }
          ],
          "mesh3d": [
           {
            "colorbar": {
             "outlinewidth": 0,
             "ticks": ""
            },
            "type": "mesh3d"
           }
          ],
          "parcoords": [
           {
            "line": {
             "colorbar": {
              "outlinewidth": 0,
              "ticks": ""
             }
            },
            "type": "parcoords"
           }
          ],
          "pie": [
           {
            "automargin": true,
            "type": "pie"
           }
          ],
          "scatter": [
           {
            "marker": {
             "line": {
              "color": "#283442"
             }
            },
            "type": "scatter"
           }
          ],
          "scatter3d": [
           {
            "line": {
             "colorbar": {
              "outlinewidth": 0,
              "ticks": ""
             }
            },
            "marker": {
             "colorbar": {
              "outlinewidth": 0,
              "ticks": ""
             }
            },
            "type": "scatter3d"
           }
          ],
          "scattercarpet": [
           {
            "marker": {
             "colorbar": {
              "outlinewidth": 0,
              "ticks": ""
             }
            },
            "type": "scattercarpet"
           }
          ],
          "scattergeo": [
           {
            "marker": {
             "colorbar": {
              "outlinewidth": 0,
              "ticks": ""
             }
            },
            "type": "scattergeo"
           }
          ],
          "scattergl": [
           {
            "marker": {
             "line": {
              "color": "#283442"
             }
            },
            "type": "scattergl"
           }
          ],
          "scattermapbox": [
           {
            "marker": {
             "colorbar": {
              "outlinewidth": 0,
              "ticks": ""
             }
            },
            "type": "scattermapbox"
           }
          ],
          "scatterpolar": [
           {
            "marker": {
             "colorbar": {
              "outlinewidth": 0,
              "ticks": ""
             }
            },
            "type": "scatterpolar"
           }
          ],
          "scatterpolargl": [
           {
            "marker": {
             "colorbar": {
              "outlinewidth": 0,
              "ticks": ""
             }
            },
            "type": "scatterpolargl"
           }
          ],
          "scatterternary": [
           {
            "marker": {
             "colorbar": {
              "outlinewidth": 0,
              "ticks": ""
             }
            },
            "type": "scatterternary"
           }
          ],
          "surface": [
           {
            "colorbar": {
             "outlinewidth": 0,
             "ticks": ""
            },
            "colorscale": [
             [
              0,
              "#0d0887"
             ],
             [
              0.1111111111111111,
              "#46039f"
             ],
             [
              0.2222222222222222,
              "#7201a8"
             ],
             [
              0.3333333333333333,
              "#9c179e"
             ],
             [
              0.4444444444444444,
              "#bd3786"
             ],
             [
              0.5555555555555556,
              "#d8576b"
             ],
             [
              0.6666666666666666,
              "#ed7953"
             ],
             [
              0.7777777777777778,
              "#fb9f3a"
             ],
             [
              0.8888888888888888,
              "#fdca26"
             ],
             [
              1,
              "#f0f921"
             ]
            ],
            "type": "surface"
           }
          ],
          "table": [
           {
            "cells": {
             "fill": {
              "color": "#506784"
             },
             "line": {
              "color": "rgb(17,17,17)"
             }
            },
            "header": {
             "fill": {
              "color": "#2a3f5f"
             },
             "line": {
              "color": "rgb(17,17,17)"
             }
            },
            "type": "table"
           }
          ]
         },
         "layout": {
          "annotationdefaults": {
           "arrowcolor": "#f2f5fa",
           "arrowhead": 0,
           "arrowwidth": 1
          },
          "coloraxis": {
           "colorbar": {
            "outlinewidth": 0,
            "ticks": ""
           }
          },
          "colorscale": {
           "diverging": [
            [
             0,
             "#8e0152"
            ],
            [
             0.1,
             "#c51b7d"
            ],
            [
             0.2,
             "#de77ae"
            ],
            [
             0.3,
             "#f1b6da"
            ],
            [
             0.4,
             "#fde0ef"
            ],
            [
             0.5,
             "#f7f7f7"
            ],
            [
             0.6,
             "#e6f5d0"
            ],
            [
             0.7,
             "#b8e186"
            ],
            [
             0.8,
             "#7fbc41"
            ],
            [
             0.9,
             "#4d9221"
            ],
            [
             1,
             "#276419"
            ]
           ],
           "sequential": [
            [
             0,
             "#0d0887"
            ],
            [
             0.1111111111111111,
             "#46039f"
            ],
            [
             0.2222222222222222,
             "#7201a8"
            ],
            [
             0.3333333333333333,
             "#9c179e"
            ],
            [
             0.4444444444444444,
             "#bd3786"
            ],
            [
             0.5555555555555556,
             "#d8576b"
            ],
            [
             0.6666666666666666,
             "#ed7953"
            ],
            [
             0.7777777777777778,
             "#fb9f3a"
            ],
            [
             0.8888888888888888,
             "#fdca26"
            ],
            [
             1,
             "#f0f921"
            ]
           ],
           "sequentialminus": [
            [
             0,
             "#0d0887"
            ],
            [
             0.1111111111111111,
             "#46039f"
            ],
            [
             0.2222222222222222,
             "#7201a8"
            ],
            [
             0.3333333333333333,
             "#9c179e"
            ],
            [
             0.4444444444444444,
             "#bd3786"
            ],
            [
             0.5555555555555556,
             "#d8576b"
            ],
            [
             0.6666666666666666,
             "#ed7953"
            ],
            [
             0.7777777777777778,
             "#fb9f3a"
            ],
            [
             0.8888888888888888,
             "#fdca26"
            ],
            [
             1,
             "#f0f921"
            ]
           ]
          },
          "colorway": [
           "#636efa",
           "#EF553B",
           "#00cc96",
           "#ab63fa",
           "#FFA15A",
           "#19d3f3",
           "#FF6692",
           "#B6E880",
           "#FF97FF",
           "#FECB52"
          ],
          "font": {
           "color": "#f2f5fa"
          },
          "geo": {
           "bgcolor": "rgb(17,17,17)",
           "lakecolor": "rgb(17,17,17)",
           "landcolor": "rgb(17,17,17)",
           "showlakes": true,
           "showland": true,
           "subunitcolor": "#506784"
          },
          "hoverlabel": {
           "align": "left"
          },
          "hovermode": "closest",
          "mapbox": {
           "style": "dark"
          },
          "paper_bgcolor": "rgb(17,17,17)",
          "plot_bgcolor": "rgb(17,17,17)",
          "polar": {
           "angularaxis": {
            "gridcolor": "#506784",
            "linecolor": "#506784",
            "ticks": ""
           },
           "bgcolor": "rgb(17,17,17)",
           "radialaxis": {
            "gridcolor": "#506784",
            "linecolor": "#506784",
            "ticks": ""
           }
          },
          "scene": {
           "xaxis": {
            "backgroundcolor": "rgb(17,17,17)",
            "gridcolor": "#506784",
            "gridwidth": 2,
            "linecolor": "#506784",
            "showbackground": true,
            "ticks": "",
            "zerolinecolor": "#C8D4E3"
           },
           "yaxis": {
            "backgroundcolor": "rgb(17,17,17)",
            "gridcolor": "#506784",
            "gridwidth": 2,
            "linecolor": "#506784",
            "showbackground": true,
            "ticks": "",
            "zerolinecolor": "#C8D4E3"
           },
           "zaxis": {
            "backgroundcolor": "rgb(17,17,17)",
            "gridcolor": "#506784",
            "gridwidth": 2,
            "linecolor": "#506784",
            "showbackground": true,
            "ticks": "",
            "zerolinecolor": "#C8D4E3"
           }
          },
          "shapedefaults": {
           "line": {
            "color": "#f2f5fa"
           }
          },
          "sliderdefaults": {
           "bgcolor": "#C8D4E3",
           "bordercolor": "rgb(17,17,17)",
           "borderwidth": 1,
           "tickwidth": 0
          },
          "ternary": {
           "aaxis": {
            "gridcolor": "#506784",
            "linecolor": "#506784",
            "ticks": ""
           },
           "baxis": {
            "gridcolor": "#506784",
            "linecolor": "#506784",
            "ticks": ""
           },
           "bgcolor": "rgb(17,17,17)",
           "caxis": {
            "gridcolor": "#506784",
            "linecolor": "#506784",
            "ticks": ""
           }
          },
          "title": {
           "x": 0.05
          },
          "updatemenudefaults": {
           "bgcolor": "#506784",
           "borderwidth": 0
          },
          "xaxis": {
           "automargin": true,
           "gridcolor": "#283442",
           "linecolor": "#506784",
           "ticks": "",
           "title": {
            "standoff": 15
           },
           "zerolinecolor": "#283442",
           "zerolinewidth": 2
          },
          "yaxis": {
           "automargin": true,
           "gridcolor": "#283442",
           "linecolor": "#506784",
           "ticks": "",
           "title": {
            "standoff": 15
           },
           "zerolinecolor": "#283442",
           "zerolinewidth": 2
          }
         }
        },
        "title": {
         "font": {
          "color": "white"
         },
         "text": "$\\chi^2$"
        },
        "width": 960,
        "xaxis": {
         "autorange": true,
         "gridcolor": "#4f4d4c",
         "gridwidth": 0.25,
         "range": [
          0,
          0.015120861893793478
         ],
         "title": {
          "text": ""
         },
         "type": "linear"
        },
        "yaxis": {
         "autorange": true,
         "gridcolor": "#4f4d4c",
         "gridwidth": 0.25,
         "range": [
          -0.5,
          2.5
         ],
         "title": {
          "text": ""
         },
         "type": "category"
        }
       }
      },
      "image/png": "[encoded data removed]",
      "text/html": [
       "<div>\n",
       "        \n",
       "        \n",
       "            <div id=\"786dcc43-6da8-4b14-a8d2-b523ac2bf4ed\" class=\"plotly-graph-div\" style=\"height:640px; width:960px;\"></div>\n",
       "            <script type=\"text/javascript\">\n",
       "                require([\"plotly\"], function(Plotly) {\n",
       "                    window.PLOTLYENV=window.PLOTLYENV || {};\n",
       "                    \n",
       "                if (document.getElementById(\"786dcc43-6da8-4b14-a8d2-b523ac2bf4ed\")) {\n",
       "                    Plotly.newPlot(\n",
       "                        '786dcc43-6da8-4b14-a8d2-b523ac2bf4ed',\n",
       "                        [{\"marker\": {\"color\": \"#381eff\"}, \"name\": \"Pvalue\", \"orientation\": \"h\", \"type\": \"bar\", \"x\": [0.014364818799103804, 0.00298081971968041, 1.8036018463381582e-07], \"y\": [\"Age\", \"Fare\", \"Pclass\"]}],\n",
       "                        {\"height\": 640, \"template\": {\"data\": {\"bar\": [{\"error_x\": {\"color\": \"#f2f5fa\"}, \"error_y\": {\"color\": \"#f2f5fa\"}, \"marker\": {\"line\": {\"color\": \"rgb(17,17,17)\", \"width\": 0.5}}, \"type\": \"bar\"}], \"barpolar\": [{\"marker\": {\"line\": {\"color\": \"rgb(17,17,17)\", \"width\": 0.5}}, \"type\": \"barpolar\"}], \"carpet\": [{\"aaxis\": {\"endlinecolor\": \"#A2B1C6\", \"gridcolor\": \"#506784\", \"linecolor\": \"#506784\", \"minorgridcolor\": \"#506784\", \"startlinecolor\": \"#A2B1C6\"}, \"baxis\": {\"endlinecolor\": \"#A2B1C6\", \"gridcolor\": \"#506784\", \"linecolor\": \"#506784\", \"minorgridcolor\": \"#506784\", \"startlinecolor\": \"#A2B1C6\"}, \"type\": \"carpet\"}], \"choropleth\": [{\"colorbar\": {\"outlinewidth\": 0, \"ticks\": \"\"}, \"type\": \"choropleth\"}], \"contour\": [{\"colorbar\": {\"outlinewidth\": 0, \"ticks\": \"\"}, \"colorscale\": [[0.0, \"#0d0887\"], [0.1111111111111111, \"#46039f\"], [0.2222222222222222, \"#7201a8\"], [0.3333333333333333, \"#9c179e\"], [0.4444444444444444, \"#bd3786\"], [0.5555555555555556, \"#d8576b\"], [0.6666666666666666, \"#ed7953\"], [0.7777777777777778, \"#fb9f3a\"], [0.8888888888888888, \"#fdca26\"], [1.0, \"#f0f921\"]], \"type\": \"contour\"}], \"contourcarpet\": [{\"colorbar\": {\"outlinewidth\": 0, \"ticks\": \"\"}, \"type\": \"contourcarpet\"}], \"heatmap\": [{\"colorbar\": {\"outlinewidth\": 0, \"ticks\": \"\"}, \"colorscale\": [[0.0, \"#0d0887\"], [0.1111111111111111, \"#46039f\"], [0.2222222222222222, \"#7201a8\"], [0.3333333333333333, \"#9c179e\"], [0.4444444444444444, \"#bd3786\"], [0.5555555555555556, \"#d8576b\"], [0.6666666666666666, \"#ed7953\"], [0.7777777777777778, \"#fb9f3a\"], [0.8888888888888888, \"#fdca26\"], [1.0, \"#f0f921\"]], \"type\": \"heatmap\"}], \"heatmapgl\": [{\"colorbar\": {\"outlinewidth\": 0, \"ticks\": \"\"}, \"colorscale\": [[0.0, \"#0d0887\"], [0.1111111111111111, \"#46039f\"], [0.2222222222222222, \"#7201a8\"], [0.3333333333333333, \"#9c179e\"], [0.4444444444444444, \"#bd3786\"], [0.5555555555555556, \"#d8576b\"], [0.6666666666666666, \"#ed7953\"], [0.7777777777777778, \"#fb9f3a\"], [0.8888888888888888, \"#fdca26\"], [1.0, \"#f0f921\"]], \"type\": \"heatmapgl\"}], \"histogram\": [{\"marker\": {\"colorbar\": {\"outlinewidth\": 0, \"ticks\": \"\"}}, \"type\": \"histogram\"}], \"histogram2d\": [{\"colorbar\": {\"outlinewidth\": 0, \"ticks\": \"\"}, \"colorscale\": [[0.0, \"#0d0887\"], [0.1111111111111111, \"#46039f\"], [0.2222222222222222, \"#7201a8\"], [0.3333333333333333, \"#9c179e\"], [0.4444444444444444, \"#bd3786\"], [0.5555555555555556, \"#d8576b\"], [0.6666666666666666, \"#ed7953\"], [0.7777777777777778, \"#fb9f3a\"], [0.8888888888888888, \"#fdca26\"], [1.0, \"#f0f921\"]], \"type\": \"histogram2d\"}], \"histogram2dcontour\": [{\"colorbar\": {\"outlinewidth\": 0, \"ticks\": \"\"}, \"colorscale\": [[0.0, \"#0d0887\"], [0.1111111111111111, \"#46039f\"], [0.2222222222222222, \"#7201a8\"], [0.3333333333333333, \"#9c179e\"], [0.4444444444444444, \"#bd3786\"], [0.5555555555555556, \"#d8576b\"], [0.6666666666666666, \"#ed7953\"], [0.7777777777777778, \"#fb9f3a\"], [0.8888888888888888, \"#fdca26\"], [1.0, \"#f0f921\"]], \"type\": \"histogram2dcontour\"}], \"mesh3d\": [{\"colorbar\": {\"outlinewidth\": 0, \"ticks\": \"\"}, \"type\": \"mesh3d\"}], \"parcoords\": [{\"line\": {\"colorbar\": {\"outlinewidth\": 0, \"ticks\": \"\"}}, \"type\": \"parcoords\"}], \"pie\": [{\"automargin\": true, \"type\": \"pie\"}], \"scatter\": [{\"marker\": {\"line\": {\"color\": \"#283442\"}}, \"type\": \"scatter\"}], \"scatter3d\": [{\"line\": {\"colorbar\": {\"outlinewidth\": 0, \"ticks\": \"\"}}, \"marker\": {\"colorbar\": {\"outlinewidth\": 0, \"ticks\": \"\"}}, \"type\": \"scatter3d\"}], \"scattercarpet\": [{\"marker\": {\"colorbar\": {\"outlinewidth\": 0, \"ticks\": \"\"}}, \"type\": \"scattercarpet\"}], \"scattergeo\": [{\"marker\": {\"colorbar\": {\"outlinewidth\": 0, \"ticks\": \"\"}}, \"type\": \"scattergeo\"}], \"scattergl\": [{\"marker\": {\"line\": {\"color\": \"#283442\"}}, \"type\": \"scattergl\"}], \"scattermapbox\": [{\"marker\": {\"colorbar\": {\"outlinewidth\": 0, \"ticks\": \"\"}}, \"type\": \"scattermapbox\"}], \"scatterpolar\": [{\"marker\": {\"colorbar\": {\"outlinewidth\": 0, \"ticks\": \"\"}}, \"type\": \"scatterpolar\"}], \"scatterpolargl\": [{\"marker\": {\"colorbar\": {\"outlinewidth\": 0, \"ticks\": \"\"}}, \"type\": \"scatterpolargl\"}], \"scatterternary\": [{\"marker\": {\"colorbar\": {\"outlinewidth\": 0, \"ticks\": \"\"}}, \"type\": \"scatterternary\"}], \"surface\": [{\"colorbar\": {\"outlinewidth\": 0, \"ticks\": \"\"}, \"colorscale\": [[0.0, \"#0d0887\"], [0.1111111111111111, \"#46039f\"], [0.2222222222222222, \"#7201a8\"], [0.3333333333333333, \"#9c179e\"], [0.4444444444444444, \"#bd3786\"], [0.5555555555555556, \"#d8576b\"], [0.6666666666666666, \"#ed7953\"], [0.7777777777777778, \"#fb9f3a\"], [0.8888888888888888, \"#fdca26\"], [1.0, \"#f0f921\"]], \"type\": \"surface\"}], \"table\": [{\"cells\": {\"fill\": {\"color\": \"#506784\"}, \"line\": {\"color\": \"rgb(17,17,17)\"}}, \"header\": {\"fill\": {\"color\": \"#2a3f5f\"}, \"line\": {\"color\": \"rgb(17,17,17)\"}}, \"type\": \"table\"}]}, \"layout\": {\"annotationdefaults\": {\"arrowcolor\": \"#f2f5fa\", \"arrowhead\": 0, \"arrowwidth\": 1}, \"coloraxis\": {\"colorbar\": {\"outlinewidth\": 0, \"ticks\": \"\"}}, \"colorscale\": {\"diverging\": [[0, \"#8e0152\"], [0.1, \"#c51b7d\"], [0.2, \"#de77ae\"], [0.3, \"#f1b6da\"], [0.4, \"#fde0ef\"], [0.5, \"#f7f7f7\"], [0.6, \"#e6f5d0\"], [0.7, \"#b8e186\"], [0.8, \"#7fbc41\"], [0.9, \"#4d9221\"], [1, \"#276419\"]], \"sequential\": [[0.0, \"#0d0887\"], [0.1111111111111111, \"#46039f\"], [0.2222222222222222, \"#7201a8\"], [0.3333333333333333, \"#9c179e\"], [0.4444444444444444, \"#bd3786\"], [0.5555555555555556, \"#d8576b\"], [0.6666666666666666, \"#ed7953\"], [0.7777777777777778, \"#fb9f3a\"], [0.8888888888888888, \"#fdca26\"], [1.0, \"#f0f921\"]], \"sequentialminus\": [[0.0, \"#0d0887\"], [0.1111111111111111, \"#46039f\"], [0.2222222222222222, \"#7201a8\"], [0.3333333333333333, \"#9c179e\"], [0.4444444444444444, \"#bd3786\"], [0.5555555555555556, \"#d8576b\"], [0.6666666666666666, \"#ed7953\"], [0.7777777777777778, \"#fb9f3a\"], [0.8888888888888888, \"#fdca26\"], [1.0, \"#f0f921\"]]}, \"colorway\": [\"#636efa\", \"#EF553B\", \"#00cc96\", \"#ab63fa\", \"#FFA15A\", \"#19d3f3\", \"#FF6692\", \"#B6E880\", \"#FF97FF\", \"#FECB52\"], \"font\": {\"color\": \"#f2f5fa\"}, \"geo\": {\"bgcolor\": \"rgb(17,17,17)\", \"lakecolor\": \"rgb(17,17,17)\", \"landcolor\": \"rgb(17,17,17)\", \"showlakes\": true, \"showland\": true, \"subunitcolor\": \"#506784\"}, \"hoverlabel\": {\"align\": \"left\"}, \"hovermode\": \"closest\", \"mapbox\": {\"style\": \"dark\"}, \"paper_bgcolor\": \"rgb(17,17,17)\", \"plot_bgcolor\": \"rgb(17,17,17)\", \"polar\": {\"angularaxis\": {\"gridcolor\": \"#506784\", \"linecolor\": \"#506784\", \"ticks\": \"\"}, \"bgcolor\": \"rgb(17,17,17)\", \"radialaxis\": {\"gridcolor\": \"#506784\", \"linecolor\": \"#506784\", \"ticks\": \"\"}}, \"scene\": {\"xaxis\": {\"backgroundcolor\": \"rgb(17,17,17)\", \"gridcolor\": \"#506784\", \"gridwidth\": 2, \"linecolor\": \"#506784\", \"showbackground\": true, \"ticks\": \"\", \"zerolinecolor\": \"#C8D4E3\"}, \"yaxis\": {\"backgroundcolor\": \"rgb(17,17,17)\", \"gridcolor\": \"#506784\", \"gridwidth\": 2, \"linecolor\": \"#506784\", \"showbackground\": true, \"ticks\": \"\", \"zerolinecolor\": \"#C8D4E3\"}, \"zaxis\": {\"backgroundcolor\": \"rgb(17,17,17)\", \"gridcolor\": \"#506784\", \"gridwidth\": 2, \"linecolor\": \"#506784\", \"showbackground\": true, \"ticks\": \"\", \"zerolinecolor\": \"#C8D4E3\"}}, \"shapedefaults\": {\"line\": {\"color\": \"#f2f5fa\"}}, \"sliderdefaults\": {\"bgcolor\": \"#C8D4E3\", \"bordercolor\": \"rgb(17,17,17)\", \"borderwidth\": 1, \"tickwidth\": 0}, \"ternary\": {\"aaxis\": {\"gridcolor\": \"#506784\", \"linecolor\": \"#506784\", \"ticks\": \"\"}, \"baxis\": {\"gridcolor\": \"#506784\", \"linecolor\": \"#506784\", \"ticks\": \"\"}, \"bgcolor\": \"rgb(17,17,17)\", \"caxis\": {\"gridcolor\": \"#506784\", \"linecolor\": \"#506784\", \"ticks\": \"\"}}, \"title\": {\"x\": 0.05}, \"updatemenudefaults\": {\"bgcolor\": \"#506784\", \"borderwidth\": 0}, \"xaxis\": {\"automargin\": true, \"gridcolor\": \"#283442\", \"linecolor\": \"#506784\", \"ticks\": \"\", \"title\": {\"standoff\": 15}, \"zerolinecolor\": \"#283442\", \"zerolinewidth\": 2}, \"yaxis\": {\"automargin\": true, \"gridcolor\": \"#283442\", \"linecolor\": \"#506784\", \"ticks\": \"\", \"title\": {\"standoff\": 15}, \"zerolinecolor\": \"#283442\", \"zerolinewidth\": 2}}}, \"title\": {\"font\": {\"color\": \"white\"}, \"text\": \"$\\\\chi^2$\"}, \"width\": 960, \"xaxis\": {\"gridcolor\": \"#4f4d4c\", \"gridwidth\": 0.25, \"title\": {\"text\": \"\"}}, \"yaxis\": {\"gridcolor\": \"#4f4d4c\", \"gridwidth\": 0.25, \"title\": {\"text\": \"\"}}},\n",
       "                        {\"responsive\": true}\n",
       "                    ).then(function(){\n",
       "                            \n",
       "var gd = document.getElementById('786dcc43-6da8-4b14-a8d2-b523ac2bf4ed');\n",
       "var x = new MutationObserver(function (mutations, observer) {{\n",
       "        var display = window.getComputedStyle(gd).display;\n",
       "        if (!display || display === 'none') {{\n",
       "            console.log([gd, 'removed!']);\n",
       "            Plotly.purge(gd);\n",
       "            observer.disconnect();\n",
       "        }}\n",
       "}});\n",
       "\n",
       "// Listen for the removal of the full notebook cells\n",
       "var notebookContainer = gd.closest('#notebook-container');\n",
       "if (notebookContainer) {{\n",
       "    x.observe(notebookContainer, {childList: true});\n",
       "}}\n",
       "\n",
       "// Listen for the clearing of the current output cell\n",
       "var outputEl = gd.closest('.output');\n",
       "if (outputEl) {{\n",
       "    x.observe(outputEl, {childList: true});\n",
       "}}\n",
       "\n",
       "                        })\n",
       "                };\n",
       "                });\n",
       "            </script>\n",
       "        </div>"
      ]
     },
     "metadata": {},
     "output_type": "display_data"
    }
   ],
   "source": [
    "fig = go.Figure(data=[go.Bar(x=p_values_kbest.values, y=p_values_kbest.index, orientation='h', marker=dict(color=color_pairs[0][0]), name='Pvalue')])\n",
    "fig.update_layout(\n",
    "            title =  dict(text=f'$\\chi^2$',\n",
    "                                   font =dict(color = 'white')),\n",
    "            height=640,\n",
    "            width=960,\n",
    "            xaxis_title='',\n",
    "            yaxis_title='',\n",
    "            template='plotly_dark'\n",
    "        )\n",
    "fig.update_xaxes(gridwidth=0.25, gridcolor='#4f4d4c')\n",
    "fig.update_yaxes(gridwidth=0.25, gridcolor='#4f4d4c')\n",
    "fig.show()"
   ]
  },
  {
   "cell_type": "code",
   "execution_count": null,
   "metadata": {},
   "outputs": [],
   "source": [
    "# набор признаков после второго отбора по Хи квадрат критерию\n",
    "col_1_5 = p_values_kbest.index.tolist()"
   ]
  },
  {
   "cell_type": "code",
   "execution_count": null,
   "metadata": {},
   "outputs": [],
   "source": [
    "print(f\"Отобрано N features {df[col_1_5].shape[1]}\")"
   ]
  },
  {
   "cell_type": "code",
   "execution_count": null,
   "metadata": {},
   "outputs": [],
   "source": [
    "df[col_1_5].shape"
   ]
  },
  {
   "cell_type": "code",
   "execution_count": null,
   "metadata": {},
   "outputs": [],
   "source": [
    "df[c].head()"
   ]
  },
  {
   "cell_type": "markdown",
   "metadata": {},
   "source": [
    "## 2 Wrappers method\n",
    "### 2.1 Отбор пар признаков, наилучшим образом разделяющих выборку"
   ]
  },
  {
   "cell_type": "code",
   "execution_count": null,
   "metadata": {},
   "outputs": [],
   "source": [
    "from itertools import permutations\n",
    "from sklearn.preprocessing import StandardScaler, MinMaxScaler\n",
    "from sklearn.linear_model import LogisticRegression\n",
    "from sklearn.metrics import f1_score, mean_absolute_error"
   ]
  },
  {
   "cell_type": "markdown",
   "metadata": {},
   "source": [
    "Здесь нужен выбор - **Какая задача решается, то и делать**"
   ]
  },
  {
   "cell_type": "code",
   "execution_count": null,
   "metadata": {},
   "outputs": [],
   "source": [
    "scores = []\n",
    "for pair in tqdm(permutations(df.drop(target_feature, axis=1), 2), desc='Pair loop: '):\n",
    "    X = df[[col for col in pair]]\n",
    "    sc = StandardScaler()\n",
    "    X_sc = sc.fit_transform(X)\n",
    "    m = LogisticRegression()\n",
    "    m.fit(X_sc, df[target_feature])\n",
    "    y_preds = m.predict(X_sc)\n",
    "    scores+=[['-'.join(pair), f1_score(df[target_feature], y_preds)]]"
   ]
  },
  {
   "cell_type": "code",
   "execution_count": null,
   "metadata": {},
   "outputs": [],
   "source": [
    "scores = []\n",
    "for feature in tqdm(df.drop(target_feature, axis=1).columns, desc='Pair loop: '):\n",
    "    X = df[[feature]].fillna(9999)\n",
    "    m = RandomForestRegressor(random_state=88, n_estimators=10, n_jobs=-1)\n",
    "    m.fit(X, df[target_feature])\n",
    "    y_preds = m.predict(X)\n",
    "    scores+=[['-'.join([feature]), mean_absolute_error(df[target_feature], y_preds)]]"
   ]
  },
  {
   "cell_type": "code",
   "execution_count": null,
   "metadata": {},
   "outputs": [],
   "source": [
    "scores = pd.DataFrame(data=scores, columns=['pair', 'score'])"
   ]
  },
  {
   "cell_type": "code",
   "execution_count": null,
   "metadata": {},
   "outputs": [],
   "source": [
    "scores"
   ]
  },
  {
   "cell_type": "code",
   "execution_count": null,
   "metadata": {},
   "outputs": [],
   "source": [
    "# если не задан порог вручную, то используется доля большего класса или среднее значение в случае регрессии\n",
    "thr_score_manual = 0.05\n",
    "thr_score = thr_score_manual if thr_score_manual else df[target_feature].mean()\n",
    "thr_score"
   ]
  },
  {
   "cell_type": "code",
   "execution_count": null,
   "metadata": {},
   "outputs": [],
   "source": [
    "pair_selection = scores[(scores['score'] < thr_score)]"
   ]
  },
  {
   "cell_type": "code",
   "execution_count": null,
   "metadata": {},
   "outputs": [],
   "source": [
    "pair_selection.shape"
   ]
  },
  {
   "cell_type": "raw",
   "metadata": {},
   "source": [
    "for pair in pair_selection['pair'].unique():\n",
    "    cols = pair.split('-')\n",
    "    fig = px.scatter(df, x=cols[0], y=cols[1], color=target_feature)\n",
    "    fig.update_layout(\n",
    "            title =  dict(text=f'Scatter {cols[0]} vs {cols[1]}',\n",
    "                                   font =dict(color = 'white')),\n",
    "            height=480,\n",
    "            width=640,\n",
    "            xaxis_title='',\n",
    "            yaxis_title='',\n",
    "            template='plotly_dark'\n",
    "        )\n",
    "    fig.update_xaxes(gridwidth=1, gridcolor='#4f4d4c')\n",
    "    fig.update_yaxes(gridwidth=1, gridcolor='#4f4d4c')\n",
    "    fig.show()"
   ]
  },
  {
   "cell_type": "code",
   "execution_count": null,
   "metadata": {},
   "outputs": [],
   "source": [
    "col_2_1 = list(set(pair_selection['pair'].str.split('-', expand=True)[0].unique().tolist() + pair_selection['pair'].str.split('-', expand=True)[1].unique().tolist()))"
   ]
  },
  {
   "cell_type": "code",
   "execution_count": null,
   "metadata": {},
   "outputs": [],
   "source": [
    "col_2_1 = pair_selection['pair'].unique().tolist()"
   ]
  },
  {
   "cell_type": "code",
   "execution_count": null,
   "metadata": {},
   "outputs": [],
   "source": [
    "col_2_1"
   ]
  },
  {
   "cell_type": "markdown",
   "metadata": {},
   "source": [
    "## 3\n",
    "### 3.1 Boruta"
   ]
  },
  {
   "cell_type": "code",
   "execution_count": null,
   "metadata": {},
   "outputs": [],
   "source": [
    "import pandas as pd\n",
    "from sklearn.ensemble import RandomForestClassifier\n",
    "from boruta import BorutaPy"
   ]
  },
  {
   "cell_type": "code",
   "execution_count": null,
   "metadata": {},
   "outputs": [],
   "source": [
    "X, y = df.drop(target_feature, axis=1).fillna(9999), df[target_feature]"
   ]
  },
  {
   "cell_type": "code",
   "execution_count": null,
   "metadata": {},
   "outputs": [],
   "source": [
    "# define random forest classifier, with utilising all cores and\n",
    "# sampling in proportion to y labels\n",
    "rf = RandomForestRegressor(n_jobs=-1, max_depth=5, max_features=10)\n",
    "\n",
    "# define Boruta feature selection method\n",
    "feat_selector = BorutaPy(rf, n_estimators='auto', verbose=0, random_state=1)\n",
    "\n",
    "# find all relevant features - 5 features should be selected\n",
    "feat_selector.fit(X.values, y)"
   ]
  },
  {
   "cell_type": "code",
   "execution_count": null,
   "metadata": {},
   "outputs": [],
   "source": [
    "feature_df = pd.DataFrame(X.columns.tolist(), columns=['features'])\n",
    "feature_df['rank']=feat_selector.ranking_\n",
    "feature_df = feature_df.query(\"rank <= 5\").sort_values('rank', ascending=True).reset_index(drop=True)"
   ]
  },
  {
   "cell_type": "code",
   "execution_count": null,
   "metadata": {},
   "outputs": [],
   "source": [
    "data = [go.Bar(y=feature_df['features'], x=feature_df['rank'], orientation='h')]\n",
    "fig = go.Figure(data=data)\n",
    "fig.update_layout(\n",
    "    title=\"Boruta ranks\",\n",
    "    height=640,\n",
    "    width=640,\n",
    "    xaxis_title='Rank',\n",
    "    yaxis_dtick=1,\n",
    "    template='plotly_dark'\n",
    ")\n",
    "fig.show()"
   ]
  },
  {
   "cell_type": "code",
   "execution_count": null,
   "metadata": {},
   "outputs": [],
   "source": [
    "len(col_best_split), feature_df['features'].shape[0]"
   ]
  },
  {
   "cell_type": "code",
   "execution_count": null,
   "metadata": {},
   "outputs": [],
   "source": [
    "col_3_1 = feature_df['features'].to_list()"
   ]
  },
  {
   "cell_type": "markdown",
   "metadata": {},
   "source": [
    "### 3.2 Predictive Power Score"
   ]
  },
  {
   "cell_type": "code",
   "execution_count": null,
   "metadata": {},
   "outputs": [],
   "source": [
    "import ppscore as pps"
   ]
  },
  {
   "cell_type": "code",
   "execution_count": null,
   "metadata": {},
   "outputs": [],
   "source": [
    "df_target_str = df.assign(target=lambda row: row[target_feature].map(float))"
   ]
  },
  {
   "cell_type": "code",
   "execution_count": null,
   "metadata": {},
   "outputs": [],
   "source": [
    "feature_pps = pps.predictors(df_target_str, target_feature, sorted=True).query(\"model_score <= baseline_score\")"
   ]
  },
  {
   "cell_type": "code",
   "execution_count": null,
   "metadata": {},
   "outputs": [],
   "source": [
    "feature_pps.head()"
   ]
  },
  {
   "cell_type": "code",
   "execution_count": null,
   "metadata": {},
   "outputs": [],
   "source": [
    "col_3_2 = feature_pps['x'].to_list()"
   ]
  },
  {
   "cell_type": "markdown",
   "metadata": {},
   "source": [
    "### Что берем из всех отборов"
   ]
  },
  {
   "cell_type": "code",
   "execution_count": null,
   "metadata": {},
   "outputs": [],
   "source": [
    "names = ['Nans share', 'Unique share', 'Corr', 'VIF', 'Chi^2', 'RF best split', 'Boruta', 'PPS']"
   ]
  },
  {
   "cell_type": "code",
   "execution_count": null,
   "metadata": {},
   "outputs": [],
   "source": [
    "selection_funnel = []\n",
    "for idx, (cols, name) in enumerate(zip([col_1_1, col_1_2, col_1_3, col_1_4, col_1_5, col_2_1, col_3_1, col_3_2], names)):\n",
    "    if cols != []:\n",
    "        selection_funnel.append([idx+1, len(cols), name])"
   ]
  },
  {
   "cell_type": "code",
   "execution_count": null,
   "metadata": {},
   "outputs": [],
   "source": [
    "ar_selection_funnel = pd.DataFrame(data=selection_funnel, columns=['idx', 'cnt', 'name']).sort_values(by='idx', ascending=False)"
   ]
  },
  {
   "cell_type": "code",
   "execution_count": null,
   "metadata": {},
   "outputs": [],
   "source": [
    "ar_selection_funnel"
   ]
  },
  {
   "cell_type": "code",
   "execution_count": null,
   "metadata": {},
   "outputs": [],
   "source": [
    "data = [go.Bar(x=ar_selection_funnel['cnt'], y=ar_selection_funnel['name'], orientation='h')]\n",
    "fig = go.Figure(data=data)\n",
    "fig.update_layout(\n",
    "    title=\"Feature Selected funnel\",\n",
    "    height=480,\n",
    "    width=640,\n",
    "    xaxis_title='Кол-во отобранных признаков',\n",
    "    yaxis_title='Метод отбора',\n",
    "    yaxis_type='category',\n",
    "    yaxis_dtick=1,\n",
    "    template='plotly_dark'\n",
    ")\n",
    "fig.show()"
   ]
  },
  {
   "cell_type": "code",
   "execution_count": null,
   "metadata": {},
   "outputs": [],
   "source": []
  },
  {
   "cell_type": "code",
   "execution_count": null,
   "metadata": {},
   "outputs": [],
   "source": [
    "# выбираем признаки по chi^2\n",
    "selected_columns = col_1_5"
   ]
  },
  {
   "cell_type": "markdown",
   "metadata": {},
   "source": [
    "### Моделирование"
   ]
  },
  {
   "cell_type": "code",
   "execution_count": null,
   "metadata": {},
   "outputs": [],
   "source": [
    "from sklearn.model_selection import KFold\n",
    "from sklearn.model_selection import TimeSeriesSplit"
   ]
  },
  {
   "cell_type": "code",
   "execution_count": null,
   "metadata": {},
   "outputs": [],
   "source": [
    "SEED = 88"
   ]
  },
  {
   "cell_type": "code",
   "execution_count": null,
   "metadata": {},
   "outputs": [],
   "source": [
    "models = []\n",
    "params = []\n",
    "\n",
    "rf = RandomForestRegressor(random_state=SEED)\n",
    "params_rf = {'max_features': ['sqrt', 'log2', None],\n",
    "             'n_estimators': [*range(10, 101, 10)],\n",
    "             'max_depth': [np.ceil(np.log(len(selected_columns))), np.ceil(np.sqrt(len(selected_columns))), None]\n",
    "            }\n",
    "\n",
    "models.append(rf)\n",
    "params.append(params_rf)\n",
    "\"\"\"\n",
    "logit = LogisticRegression(random_state=SEED, solver='liblinear')\n",
    "params_logit = {'C': np.logspace(-2, 1, 10)}\n",
    "\n",
    "models.append(logit)\n",
    "params.append(params_logit)\n",
    "\"\"\""
   ]
  },
  {
   "cell_type": "code",
   "execution_count": null,
   "metadata": {},
   "outputs": [],
   "source": [
    "cv = TimeSeriesSplit(n_splits=3)"
   ]
  },
  {
   "cell_type": "code",
   "execution_count": null,
   "metadata": {},
   "outputs": [],
   "source": [
    "def sel_best_model(model, params, X, y, cv, **kwargs):\n",
    "    \"\"\"\n",
    "    Находит наилучшие параметры для модели\n",
    "    \n",
    "    :param model: модель машинного обучения    \n",
    "    :param params: массив комбинаций параметров, из которых будет выбираться лучшая модель\n",
    "    :param X: признаки для обучения\n",
    "    :param y: целевая переменная\n",
    "    :param cv: настройки кросс-валидации\n",
    "    \n",
    "    :return: наилучшая модель и score этой модели\n",
    "    \n",
    "    \"\"\"\n",
    "    clf = RandomizedSearchCV(model, params, cv=cv, refit=True, n_jobs=-1, random_state=SEED, **kwargs)\n",
    "    clf.fit(X, y)\n",
    "    \n",
    "    score_table = {\n",
    "        'model': [type(model).__name__],\n",
    "        'mean_fit_time': [clf.cv_results_['mean_fit_time'][clf.best_index_]],\n",
    "        'mean_test_score': [clf.best_score_],\n",
    "        'std_test_score': [clf.cv_results_['std_test_score'][clf.best_index_]],\n",
    "        'params': [clf.best_params_]\n",
    "    }\n",
    "    \n",
    "    score_table = pd.DataFrame(score_table)\n",
    "    best_model = clf.best_estimator_\n",
    "    \n",
    "    return best_model, score_table"
   ]
  },
  {
   "cell_type": "code",
   "execution_count": null,
   "metadata": {},
   "outputs": [],
   "source": [
    "X_train, X_test, y_train, y_test = train_test_split(df[selected_columns], df['target'], test_size=0.3, random_state=SEED, shuffle=False)"
   ]
  },
  {
   "cell_type": "code",
   "execution_count": null,
   "metadata": {},
   "outputs": [],
   "source": [
    "pd.options.display.max_colwidth = -1"
   ]
  },
  {
   "cell_type": "code",
   "execution_count": null,
   "metadata": {},
   "outputs": [],
   "source": [
    "%%time\n",
    "best_scores = []\n",
    "best_models = []\n",
    "\n",
    "for m, p in zip(models, params):\n",
    "    best_estimator, best_score = sel_best_model(m, p, X_train, y_train, cv, scoring=None)\n",
    "    best_scores.append(best_score)\n",
    "    best_models.append(best_estimator)\n",
    "    \n",
    "results = pd.concat(best_scores).reset_index(drop=True).rename(columns={'mean_test_score': 'mean_test_score'})\n",
    "results"
   ]
  },
  {
   "cell_type": "code",
   "execution_count": null,
   "metadata": {},
   "outputs": [],
   "source": [
    "from sklearn.metrics import roc_curve"
   ]
  },
  {
   "cell_type": "code",
   "execution_count": null,
   "metadata": {},
   "outputs": [],
   "source": [
    "fpr, tpr, thresholds = roc_curve(y_test, best_models[0].predict_proba(X_test)[:,1], pos_label=1)\n",
    "lw = 2\n",
    "\n",
    "data = [\n",
    "    go.Scatter(x=fpr, y=tpr, name='ROC curve'),\n",
    "    go.Scatter(x=[0, 1], y=[0, 1], name='Random curve')\n",
    "]"
   ]
  },
  {
   "cell_type": "code",
   "execution_count": null,
   "metadata": {},
   "outputs": [],
   "source": [
    "fig = go.Figure(data=data)\n",
    "fig.update_layout(\n",
    "    title=\"ROC curve\",\n",
    "    xaxis_title=\"False Positive Rate\",\n",
    "    yaxis_title=\"True Positive Rate\",\n",
    "    width=960,\n",
    "    height=640,\n",
    "    legend_itemsizing='trace',\n",
    "    template='plotly_dark'\n",
    ")\n",
    "fig.show()"
   ]
  },
  {
   "cell_type": "markdown",
   "metadata": {},
   "source": [
    "### Оценка признаков"
   ]
  },
  {
   "cell_type": "code",
   "execution_count": null,
   "metadata": {},
   "outputs": [],
   "source": [
    "feature_importances = pd.Series(best_models[0].feature_importances_).to_frame(name='value')\\\n",
    "    .assign(feature=selected_columns)\\\n",
    "    .sort_values(by='value', ascending=False)\\\n",
    "    .assign(cumulative_value=lambda row: row['value'].cumsum())\\\n",
    "    .head(15)"
   ]
  },
  {
   "cell_type": "raw",
   "metadata": {},
   "source": [
    "feature_importances[['feature', 'value']].rename(columns={'feature': 'Признак', 'value': 'Важность'}).to_excel('d:/mi/materials/важность_признаков_C1_validity.xlsx')"
   ]
  },
  {
   "cell_type": "code",
   "execution_count": null,
   "metadata": {},
   "outputs": [],
   "source": [
    "fig = go.Figure(data=[go.Bar(y=feature_importances['value'], x=feature_importances['feature'], orientation='v', marker=dict(color=color_pairs[0][0]), name='Важность'),\n",
    "                     go.Scatter(x=feature_importances['feature'], y=feature_importances['cumulative_value'], mode='lines+markers', marker=dict(size=7, color=color_pairs[0][1]), name='Накоп. важность')])\n",
    "fig.update_layout(\n",
    "            title =  dict(text=f'Важность признаков',\n",
    "                                   font =dict(color = 'white')),\n",
    "            xaxis_type='category',\n",
    "            height=640,\n",
    "            width=960,\n",
    "            xaxis_title='',\n",
    "            yaxis_title='',\n",
    "            template='plotly_dark'\n",
    "        )\n",
    "fig.update_xaxes(gridwidth=1, gridcolor='grey')\n",
    "fig.update_yaxes(gridwidth=1, gridcolor='grey')\n",
    "fig.show()"
   ]
  },
  {
   "cell_type": "code",
   "execution_count": null,
   "metadata": {},
   "outputs": [],
   "source": [
    "f = \"D:\\\\zsmk\\\\materials\\\\Предикторы_RSi_B1.xls\""
   ]
  },
  {
   "cell_type": "code",
   "execution_count": null,
   "metadata": {},
   "outputs": [],
   "source": [
    "predictors_top20 = pd.read_excel(f).dropna().sort_values(by='share').tail(20)"
   ]
  },
  {
   "cell_type": "code",
   "execution_count": null,
   "metadata": {},
   "outputs": [],
   "source": [
    "predictors_top20"
   ]
  },
  {
   "cell_type": "code",
   "execution_count": null,
   "metadata": {},
   "outputs": [],
   "source": [
    "fig = go.Figure(data=[go.Bar(x=predictors_top20['share'], y=predictors_top20['descr'], orientation='h', marker=dict(color=color_pairs[0][0])),])\n",
    "fig.update_layout(\n",
    "            title =  dict(text=f'Предикторы',\n",
    "                                   font =dict(color = 'white')),\n",
    "            height=640,\n",
    "            width=960,\n",
    "            xaxis_title='',\n",
    "            yaxis_title='',\n",
    "            template='plotly_dark',\n",
    "\n",
    "        )\n",
    "fig.update_xaxes(gridwidth=1, gridcolor='grey', showticklabels=False)\n",
    "fig.update_yaxes(gridwidth=1, gridcolor='grey')\n",
    "fig.show()"
   ]
  }
 ],
 "metadata": {
  "kernelspec": {
   "display_name": "Python 3",
   "language": "python",
   "name": "python3"
  },
  "language_info": {
   "codemirror_mode": {
    "name": "ipython",
    "version": 3
   },
   "file_extension": ".py",
   "mimetype": "text/x-python",
   "name": "python",
   "nbconvert_exporter": "python",
   "pygments_lexer": "ipython3",
   "version": "3.7.5"
  }
 },
 "nbformat": 4,
 "nbformat_minor": 4
}
